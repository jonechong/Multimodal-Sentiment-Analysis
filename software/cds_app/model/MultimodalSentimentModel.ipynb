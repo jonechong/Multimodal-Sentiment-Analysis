{
 "cells": [
  {
   "cell_type": "markdown",
   "metadata": {},
   "source": [
    "# Multimodal Sentiment Model"
   ]
  },
  {
   "cell_type": "code",
   "execution_count": 17,
   "metadata": {},
   "outputs": [],
   "source": [
    "import os\n",
    "import torch\n",
    "import torch.nn as nn\n",
    "import torch.nn.functional as F\n",
    "import h5py\n",
    "from torch.utils.data import Dataset, DataLoader\n",
    "from torch.optim import Adam\n",
    "from tqdm import tqdm\n",
    "import matplotlib.pyplot as plt"
   ]
  },
  {
   "cell_type": "markdown",
   "metadata": {},
   "source": [
    "## Model Definition"
   ]
  },
  {
   "cell_type": "code",
   "execution_count": 18,
   "metadata": {},
   "outputs": [],
   "source": [
    "class Autoencoder(nn.Module):\n",
    "    def __init__(self, input_dim, encoding_dim):\n",
    "        super(Autoencoder, self).__init__()\n",
    "        # Encoder\n",
    "        self.encoder = nn.Sequential(\n",
    "            nn.Linear(input_dim, 512),\n",
    "            nn.ReLU(),\n",
    "            nn.Linear(512, encoding_dim),\n",
    "            nn.ReLU()\n",
    "        )\n",
    "        # Decoder\n",
    "        self.decoder = nn.Sequential(\n",
    "            nn.Linear(encoding_dim, 512),\n",
    "            nn.ReLU(),\n",
    "            nn.Linear(512, input_dim),\n",
    "            nn.ReLU()\n",
    "        )\n",
    "\n",
    "    def forward(self, x):\n",
    "        encoded = self.encoder(x)\n",
    "        decoded = self.decoder(encoded)\n",
    "        return encoded, decoded"
   ]
  },
  {
   "cell_type": "code",
   "execution_count": 19,
   "metadata": {},
   "outputs": [],
   "source": [
    "class MultimodalSentimentModel(nn.Module):\n",
    "    def __init__(self, audio_feature_dim, facial_feature_dim, text_feature_dim, encoding_dim, output_dim, dropout_rate=0):\n",
    "        super(MultimodalSentimentModel, self).__init__()\n",
    "        \n",
    "        total_feature_dim = encoding_dim * 3\n",
    "\n",
    "        self.fc = nn.Linear(encoding_dim, output_dim)\n",
    "\n",
    "        self.face_autoencoder = Autoencoder(input_dim=facial_feature_dim, encoding_dim=encoding_dim)\n",
    "        self.text_autoencoder = Autoencoder(input_dim=text_feature_dim, encoding_dim=encoding_dim)\n",
    "        self.audio_autoencoder = Autoencoder(input_dim=audio_feature_dim, encoding_dim=encoding_dim)\n",
    "        self.concat_autoencoder = Autoencoder(input_dim=total_feature_dim, encoding_dim=encoding_dim)\n",
    "        \n",
    "        self.dropout = nn.Dropout(dropout_rate)\n",
    "\n",
    "\n",
    "    def forward(self, audio_features, facial_features, text_features):\n",
    "        text_encoded, _ = self.text_autoencoder(text_features)\n",
    "        face_encoded, _ = self.face_autoencoder(facial_features)\n",
    "        audio_encoded, _ = self.audio_autoencoder(audio_features)\n",
    "        combined_features = torch.cat((audio_encoded, face_encoded, text_encoded), dim=1)\n",
    "        concat_features, _ = self.concat_autoencoder(combined_features)\n",
    "        x = F.relu(self.fc(concat_features))\n",
    "        x = self.dropout(x)\n",
    "\n",
    "        \n",
    "        return x"
   ]
  },
  {
   "cell_type": "markdown",
   "metadata": {},
   "source": [
    "## Dataset Definition"
   ]
  },
  {
   "cell_type": "code",
   "execution_count": 20,
   "metadata": {},
   "outputs": [],
   "source": [
    "class MultimodalDataset(Dataset):\n",
    "    def __init__(self, h5_file, split='train'):\n",
    "        self.h5_file_path = h5_file\n",
    "        self.split = split\n",
    "        self.groups = []\n",
    "        self.file = None\n",
    "        self.open_file()\n",
    "        \n",
    "        # Error handling for file opening\n",
    "        if self.file is not None:\n",
    "            self.collect_groups()\n",
    "\n",
    "    def open_file(self):\n",
    "        try:\n",
    "            self.file = h5py.File(self.h5_file_path, 'r')\n",
    "        except Exception as e:\n",
    "            print(f\"Failed to open file {self.h5_file_path}: {e}\")\n",
    "\n",
    "    def collect_groups(self):\n",
    "        for group_name in self.file:\n",
    "            if self.file[group_name].attrs['split'] == self.split:\n",
    "                self.groups.append(group_name)\n",
    "                \n",
    "    def __len__(self):\n",
    "        return len(self.groups)\n",
    "\n",
    "    def __getitem__(self, idx):\n",
    "        if self.file is None:\n",
    "            print(\"HDF5 file is not opened.\")\n",
    "            return None\n",
    "        \n",
    "        try:\n",
    "            group = self.file[self.groups[idx]]\n",
    "            \n",
    "            audio_features = torch.tensor(group['audio_features_averaged'][:], dtype=torch.float32)\n",
    "            facial_features = torch.tensor(group['averaged_facial_features'][:], dtype=torch.float32)\n",
    "            text_features = torch.tensor(group['bert_text_features_512'][:], dtype=torch.float32)\n",
    "            \n",
    "            label_mapping = {'Negative': 0, 'Neutral': 1, 'Positive': 2}\n",
    "            label = torch.tensor(label_mapping[group.attrs['label']], dtype=torch.long)\n",
    "\n",
    "            return audio_features, facial_features, text_features, label\n",
    "        except Exception as e:\n",
    "            print(f\"Error loading data point {idx}: {e}\")\n",
    "            # Return None or raise an exception if preferred\n",
    "            return None\n",
    "\n",
    "    def __del__(self):\n",
    "        if self.file is not None:\n",
    "            self.file.close()\n",
    "            print(\"HDF5 file closed.\")\n",
    "    \n",
    "\n",
    "def create_dataloaders(h5_file, batch_size=64):\n",
    "    train_dataset = MultimodalDataset(h5_file, 'train')\n",
    "    validate_dataset = MultimodalDataset(h5_file, 'validate')\n",
    "    test_dataset = MultimodalDataset(h5_file, 'test')\n",
    "\n",
    "    # Create DataLoaders\n",
    "    train_loader = DataLoader(train_dataset, batch_size=batch_size, shuffle=True, num_workers=0)\n",
    "    validate_loader = DataLoader(validate_dataset, batch_size=batch_size, shuffle=False, num_workers=0)\n",
    "    test_loader = DataLoader(test_dataset, batch_size=batch_size, shuffle=False, num_workers=0)\n",
    "\n",
    "    return train_loader, validate_loader, test_loader\n",
    "\n",
    "def print_loader_sizes(train_loader, validate_loader, test_loader):\n",
    "    # Calculate number of batches in each loader\n",
    "    num_train_batches = len(train_loader)\n",
    "    num_validate_batches = len(validate_loader)\n",
    "    num_test_batches = len(test_loader)\n",
    "\n",
    "    # Print the total number of batches for each loader\n",
    "    print(f\"Total number of batches in Train Loader: {num_train_batches}\")\n",
    "    print(f\"Total number of batches in Validate Loader: {num_validate_batches}\")\n",
    "    print(f\"Total number of batches in Test Loader: {num_test_batches}\")\n",
    "\n",
    "    # To verify the size of the first batch (optional)\n",
    "    # Here we use a trick to get the first batch without iterating through the DataLoader\n",
    "    first_batch_train = next(iter(train_loader))\n",
    "    print(f\"Shapes of the first train batch - Audio Features: {first_batch_train[0].shape}, Facial Features: {first_batch_train[1].shape}, Text Features: {first_batch_train[2].shape}, Labels: {first_batch_train[3].shape}\")\n",
    "\n",
    "    first_batch_validate = next(iter(validate_loader))\n",
    "    print(f\"Shapes of the first validate batch - Audio Features: {first_batch_validate[0].shape}, Facial Features: {first_batch_validate[1].shape}, Text Features: {first_batch_validate[2].shape}, Labels: {first_batch_validate[3].shape}\")\n",
    "\n",
    "    first_batch_test = next(iter(test_loader))\n",
    "    print(f\"Shapes of the first test batch - Audio Features: {first_batch_test[0].shape}, Facial Features: {first_batch_test[1].shape}, Text Features: {first_batch_test[2].shape}, Labels: {first_batch_test[3].shape}\")\n"
   ]
  },
  {
   "cell_type": "markdown",
   "metadata": {},
   "source": [
    "## Training functions"
   ]
  },
  {
   "cell_type": "code",
   "execution_count": 21,
   "metadata": {},
   "outputs": [],
   "source": [
    "def save_checkpoint(model, optimizer, epoch, filepath):\n",
    "    torch.save({\n",
    "        'epoch': epoch,\n",
    "        'model_state_dict': model.state_dict(),\n",
    "        'optimizer_state_dict': optimizer.state_dict()\n",
    "    }, filepath)\n",
    "\n",
    "def load_checkpoint(filepath, model, optimizer):\n",
    "    checkpoint = torch.load(filepath)\n",
    "    model.load_state_dict(checkpoint['model_state_dict'])\n",
    "    optimizer.load_state_dict(checkpoint['optimizer_state_dict'])\n",
    "    epoch = checkpoint['epoch']\n",
    "    return model, optimizer, epoch\n"
   ]
  },
  {
   "cell_type": "code",
   "execution_count": 22,
   "metadata": {},
   "outputs": [],
   "source": [
    "def train(model, dataloader, loss_fn, optimizer, device):\n",
    "    model.train()\n",
    "    total_loss = 0\n",
    "    correct_predictions = 0\n",
    "\n",
    "    for audio_features, facial_features, text_features, labels in tqdm(dataloader):\n",
    "        audio_features = audio_features.to(device)\n",
    "        facial_features = facial_features.to(device)\n",
    "        text_features = text_features.to(device)\n",
    "        labels = labels.to(device)\n",
    "\n",
    "        optimizer.zero_grad()\n",
    "        outputs = model(audio_features, facial_features, text_features)\n",
    "        loss = loss_fn(outputs, labels)\n",
    "        loss.backward()\n",
    "        optimizer.step()\n",
    "\n",
    "        total_loss += loss.item()\n",
    "        _, predicted = torch.max(outputs, 1)\n",
    "        correct_predictions += (predicted == labels).sum().item()\n",
    "\n",
    "    avg_loss = total_loss / len(dataloader)\n",
    "    accuracy = correct_predictions / len(dataloader.dataset)\n",
    "    return avg_loss, accuracy\n",
    "\n",
    "def validate(model, dataloader, loss_fn, device):\n",
    "    model.eval()\n",
    "    total_loss = 0\n",
    "    correct_predictions = 0\n",
    "\n",
    "    with torch.no_grad():\n",
    "        for audio_features, facial_features, text_features, labels in tqdm(dataloader):\n",
    "            audio_features = audio_features.to(device)\n",
    "            facial_features = facial_features.to(device)\n",
    "            text_features = text_features.to(device)\n",
    "            labels = labels.to(device)\n",
    "\n",
    "            outputs = model(audio_features, facial_features, text_features)\n",
    "            loss = loss_fn(outputs, labels)\n",
    "\n",
    "            total_loss += loss.item()\n",
    "            _, predicted = torch.max(outputs, 1)\n",
    "            correct_predictions += (predicted == labels).sum().item()\n",
    "\n",
    "    avg_loss = total_loss / len(dataloader)\n",
    "    accuracy = correct_predictions / len(dataloader.dataset)\n",
    "    return avg_loss, accuracy\n",
    "\n",
    "def train_and_validate(model, optimizer,train_loader, validate_loader, num_epochs, device, learning_rate):\n",
    "    loss_fn = nn.CrossEntropyLoss()\n",
    "\n",
    "    training_losses = []\n",
    "    validation_losses = []\n",
    "    last_epoch_with_lower_val_loss = 0  # Track the last epoch where validation loss < training loss\n",
    "\n",
    "    for epoch in range(1, num_epochs + 1):\n",
    "        train_loss, train_accuracy = train(model, train_loader, loss_fn, optimizer, device)\n",
    "        val_loss, val_accuracy = validate(model, validate_loader, loss_fn, device)\n",
    "        training_losses.append(train_loss)\n",
    "        validation_losses.append(val_loss)\n",
    "\n",
    "        if val_loss == min(validation_losses):\n",
    "            last_epoch_with_lower_val_loss = epoch  # Update if current epoch meets condition\n",
    "            save_checkpoint(model, optimizer, epoch, f'mmsa_best.pth')  # Save the best model so far\n",
    "\n",
    "        print(f'Epoch {epoch}, Train Loss: {train_loss}, Train Accuracy: {train_accuracy}, Val Loss: {val_loss}, Val Accuracy: {val_accuracy}')\n",
    "        \n",
    "        # Save the model checkpoint for every epoch as well\n",
    "        save_checkpoint(model, optimizer, epoch, f'mmsa_{epoch}.pth')\n",
    "\n",
    "    return training_losses, validation_losses, last_epoch_with_lower_val_loss\n",
    "\n",
    "def plot_losses(training_losses, validation_losses):\n",
    "    epochs = range(1, len(training_losses) + 1)  # Start epochs at 1\n",
    "    plt.plot(epochs, training_losses, label='Training Loss')\n",
    "    plt.plot(epochs, validation_losses, label='Validation Loss')\n",
    "    plt.xlabel('Epochs')\n",
    "    plt.ylabel('Loss')\n",
    "    plt.title('Training vs Validation Loss')\n",
    "    plt.xticks(epochs)  # Ensure x-ticks correspond to epochs\n",
    "    plt.legend()\n",
    "    plt.show()\n",
    "\n",
    "def test(model, test_loader, device, epoch):\n",
    "\n",
    "    test_loss, test_accuracy = validate(model, test_loader, nn.CrossEntropyLoss(), device)\n",
    "    print(f'Epoch {epoch} Test Loss: {test_loss}, Test Accuracy: {test_accuracy}')"
   ]
  },
  {
   "cell_type": "markdown",
   "metadata": {},
   "source": [
    "## Execution"
   ]
  },
  {
   "cell_type": "code",
   "execution_count": 23,
   "metadata": {},
   "outputs": [],
   "source": [
    "# Hyperparams\n",
    "batch_size = 64\n",
    "num_epochs = 20\n",
    "audio_feature_dim = 45 \n",
    "facial_feature_dim = 2048 \n",
    "text_feature_dim = 768 \n",
    "encoding_dim = 512\n",
    "\n",
    "learning_rate = 1e-5\n",
    "dropout_rate = 0.1\n",
    "\n",
    "# Other definitions\n",
    "h5_file = r'combined_features.h5'\n",
    "output_dim = 3  "
   ]
  },
  {
   "cell_type": "code",
   "execution_count": 24,
   "metadata": {},
   "outputs": [
    {
     "name": "stdout",
     "output_type": "stream",
     "text": [
      "HDF5 file closed.\n",
      "HDF5 file closed.\n",
      "HDF5 file closed.\n"
     ]
    },
    {
     "name": "stderr",
     "output_type": "stream",
     "text": [
      "100%|██████████| 177/177 [00:04<00:00, 42.89it/s]\n",
      "100%|██████████| 22/22 [00:00<00:00, 52.00it/s]\n"
     ]
    },
    {
     "name": "stdout",
     "output_type": "stream",
     "text": [
      "Epoch 1, Train Loss: 1.0981427835205855, Train Accuracy: 0.34837337115503947, Val Loss: 1.0973439324985852, Val Accuracy: 0.3421240199572345\n"
     ]
    },
    {
     "name": "stderr",
     "output_type": "stream",
     "text": [
      "100%|██████████| 177/177 [00:03<00:00, 44.51it/s]\n",
      "100%|██████████| 22/22 [00:00<00:00, 55.69it/s]\n"
     ]
    },
    {
     "name": "stdout",
     "output_type": "stream",
     "text": [
      "Epoch 2, Train Loss: 1.094885740576491, Train Accuracy: 0.37301657654463255, Val Loss: 1.0915603800253435, Val Accuracy: 0.36564504632929434\n"
     ]
    },
    {
     "name": "stderr",
     "output_type": "stream",
     "text": [
      "100%|██████████| 177/177 [00:03<00:00, 44.61it/s]\n",
      "100%|██████████| 22/22 [00:00<00:00, 53.26it/s]\n"
     ]
    },
    {
     "name": "stdout",
     "output_type": "stream",
     "text": [
      "Epoch 3, Train Loss: 1.0797111274158888, Train Accuracy: 0.41060189699494726, Val Loss: 1.05673547224565, Val Accuracy: 0.5160370634354954\n"
     ]
    },
    {
     "name": "stderr",
     "output_type": "stream",
     "text": [
      "100%|██████████| 177/177 [00:03<00:00, 44.59it/s]\n",
      "100%|██████████| 22/22 [00:00<00:00, 55.79it/s]\n"
     ]
    },
    {
     "name": "stdout",
     "output_type": "stream",
     "text": [
      "Epoch 4, Train Loss: 0.9969101561664861, Train Accuracy: 0.54020033684957, Val Loss: 0.9225954603065144, Val Accuracy: 0.6058446186742694\n"
     ]
    },
    {
     "name": "stderr",
     "output_type": "stream",
     "text": [
      "100%|██████████| 177/177 [00:03<00:00, 45.07it/s]\n",
      "100%|██████████| 22/22 [00:00<00:00, 54.59it/s]\n"
     ]
    },
    {
     "name": "stdout",
     "output_type": "stream",
     "text": [
      "Epoch 5, Train Loss: 0.8969099299382355, Train Accuracy: 0.5868274089176492, Val Loss: 0.8534230589866638, Val Accuracy: 0.6186742694226657\n"
     ]
    },
    {
     "name": "stderr",
     "output_type": "stream",
     "text": [
      "100%|██████████| 177/177 [00:03<00:00, 44.34it/s]\n",
      "100%|██████████| 22/22 [00:00<00:00, 53.01it/s]\n"
     ]
    },
    {
     "name": "stdout",
     "output_type": "stream",
     "text": [
      "Epoch 6, Train Loss: 0.8574715613645348, Train Accuracy: 0.6048222675294743, Val Loss: 0.8216107325120405, Val Accuracy: 0.6372059871703493\n"
     ]
    },
    {
     "name": "stderr",
     "output_type": "stream",
     "text": [
      "100%|██████████| 177/177 [00:03<00:00, 44.96it/s]\n",
      "100%|██████████| 22/22 [00:00<00:00, 55.55it/s]\n"
     ]
    },
    {
     "name": "stdout",
     "output_type": "stream",
     "text": [
      "Epoch 7, Train Loss: 0.8344316674491107, Train Accuracy: 0.6187394734509352, Val Loss: 0.8096944229169325, Val Accuracy: 0.6336421952957947\n"
     ]
    },
    {
     "name": "stderr",
     "output_type": "stream",
     "text": [
      "100%|██████████| 177/177 [00:03<00:00, 44.42it/s]\n",
      "100%|██████████| 22/22 [00:00<00:00, 56.46it/s]\n"
     ]
    },
    {
     "name": "stdout",
     "output_type": "stream",
     "text": [
      "Epoch 8, Train Loss: 0.8169826050262666, Train Accuracy: 0.6257423987235174, Val Loss: 0.8002547540447928, Val Accuracy: 0.6429080541696365\n"
     ]
    },
    {
     "name": "stderr",
     "output_type": "stream",
     "text": [
      "100%|██████████| 177/177 [00:04<00:00, 43.90it/s]\n",
      "100%|██████████| 22/22 [00:00<00:00, 54.32it/s]\n"
     ]
    },
    {
     "name": "stdout",
     "output_type": "stream",
     "text": [
      "Epoch 9, Train Loss: 0.8076252284023048, Train Accuracy: 0.6338977041042461, Val Loss: 0.7923271601850336, Val Accuracy: 0.6507483962936564\n"
     ]
    },
    {
     "name": "stderr",
     "output_type": "stream",
     "text": [
      "100%|██████████| 177/177 [00:04<00:00, 43.93it/s]\n",
      "100%|██████████| 22/22 [00:00<00:00, 56.70it/s]\n"
     ]
    },
    {
     "name": "stdout",
     "output_type": "stream",
     "text": [
      "Epoch 10, Train Loss: 0.8029949146475496, Train Accuracy: 0.6354046627072069, Val Loss: 0.7930795198137109, Val Accuracy: 0.6600142551674982\n"
     ]
    },
    {
     "name": "stderr",
     "output_type": "stream",
     "text": [
      "100%|██████████| 177/177 [00:03<00:00, 44.33it/s]\n",
      "100%|██████████| 22/22 [00:00<00:00, 53.98it/s]\n"
     ]
    },
    {
     "name": "stdout",
     "output_type": "stream",
     "text": [
      "Epoch 11, Train Loss: 0.7953568393901244, Train Accuracy: 0.639305026150164, Val Loss: 0.7870263674042441, Val Accuracy: 0.6535994297933001\n"
     ]
    },
    {
     "name": "stderr",
     "output_type": "stream",
     "text": [
      "100%|██████████| 177/177 [00:04<00:00, 43.77it/s]\n",
      "100%|██████████| 22/22 [00:00<00:00, 56.03it/s]\n"
     ]
    },
    {
     "name": "stdout",
     "output_type": "stream",
     "text": [
      "Epoch 12, Train Loss: 0.7841444295004937, Train Accuracy: 0.6493218686286677, Val Loss: 0.7832369614731182, Val Accuracy: 0.6607270135424091\n"
     ]
    },
    {
     "name": "stderr",
     "output_type": "stream",
     "text": [
      "100%|██████████| 177/177 [00:04<00:00, 43.74it/s]\n",
      "100%|██████████| 22/22 [00:00<00:00, 55.13it/s]\n"
     ]
    },
    {
     "name": "stdout",
     "output_type": "stream",
     "text": [
      "Epoch 13, Train Loss: 0.7728636382663318, Train Accuracy: 0.6496764471234819, Val Loss: 0.7824420739303936, Val Accuracy: 0.6514611546685674\n"
     ]
    },
    {
     "name": "stderr",
     "output_type": "stream",
     "text": [
      "100%|██████████| 177/177 [00:03<00:00, 44.69it/s]\n",
      "100%|██████████| 22/22 [00:00<00:00, 56.40it/s]\n"
     ]
    },
    {
     "name": "stdout",
     "output_type": "stream",
     "text": [
      "Epoch 14, Train Loss: 0.768775147570055, Train Accuracy: 0.6523357858345892, Val Loss: 0.785768601027402, Val Accuracy: 0.6464718460441911\n"
     ]
    },
    {
     "name": "stderr",
     "output_type": "stream",
     "text": [
      "100%|██████████| 177/177 [00:03<00:00, 44.56it/s]\n",
      "100%|██████████| 22/22 [00:00<00:00, 54.38it/s]\n"
     ]
    },
    {
     "name": "stdout",
     "output_type": "stream",
     "text": [
      "Epoch 15, Train Loss: 0.7589128566327068, Train Accuracy: 0.6604910912153178, Val Loss: 0.7795544727282091, Val Accuracy: 0.6635780470420527\n"
     ]
    },
    {
     "name": "stderr",
     "output_type": "stream",
     "text": [
      "100%|██████████| 177/177 [00:04<00:00, 43.58it/s]\n",
      "100%|██████████| 22/22 [00:00<00:00, 57.18it/s]\n"
     ]
    },
    {
     "name": "stdout",
     "output_type": "stream",
     "text": [
      "Epoch 16, Train Loss: 0.7517583767573038, Train Accuracy: 0.661909405194575, Val Loss: 0.7809119847687808, Val Accuracy: 0.6507483962936564\n"
     ]
    },
    {
     "name": "stderr",
     "output_type": "stream",
     "text": [
      "100%|██████████| 177/177 [00:04<00:00, 44.10it/s]\n",
      "100%|██████████| 22/22 [00:00<00:00, 56.21it/s]\n"
     ]
    },
    {
     "name": "stdout",
     "output_type": "stream",
     "text": [
      "Epoch 17, Train Loss: 0.7398482214259563, Train Accuracy: 0.6722808261678929, Val Loss: 0.7791678986766122, Val Accuracy: 0.6571632216678546\n"
     ]
    },
    {
     "name": "stderr",
     "output_type": "stream",
     "text": [
      "100%|██████████| 177/177 [00:03<00:00, 44.64it/s]\n",
      "100%|██████████| 22/22 [00:00<00:00, 58.33it/s]\n"
     ]
    },
    {
     "name": "stdout",
     "output_type": "stream",
     "text": [
      "Epoch 18, Train Loss: 0.7287379439267735, Train Accuracy: 0.6786632390745502, Val Loss: 0.7760665768926794, Val Accuracy: 0.654312188168211\n"
     ]
    },
    {
     "name": "stderr",
     "output_type": "stream",
     "text": [
      "100%|██████████| 177/177 [00:03<00:00, 44.33it/s]\n",
      "100%|██████████| 22/22 [00:00<00:00, 56.32it/s]\n"
     ]
    },
    {
     "name": "stdout",
     "output_type": "stream",
     "text": [
      "Epoch 19, Train Loss: 0.7247862896676791, Train Accuracy: 0.6829181810123216, Val Loss: 0.7797007181427695, Val Accuracy: 0.6528866714183892\n"
     ]
    },
    {
     "name": "stderr",
     "output_type": "stream",
     "text": [
      "100%|██████████| 177/177 [00:04<00:00, 44.11it/s]\n",
      "100%|██████████| 22/22 [00:00<00:00, 57.06it/s]\n"
     ]
    },
    {
     "name": "stdout",
     "output_type": "stream",
     "text": [
      "Epoch 20, Train Loss: 0.719851687129608, Train Accuracy: 0.6785745944508466, Val Loss: 0.7721097821539099, Val Accuracy: 0.6614397719173201\n"
     ]
    },
    {
     "data": {
      "image/png": "[encoded data removed]",
      "text/plain": [
       "<Figure size 640x480 with 1 Axes>"
      ]
     },
     "metadata": {},
     "output_type": "display_data"
    },
    {
     "name": "stdout",
     "output_type": "stream",
     "text": [
      "Testing the model from epoch 20\n"
     ]
    },
    {
     "name": "stderr",
     "output_type": "stream",
     "text": [
      "100%|██████████| 23/23 [00:00<00:00, 46.58it/s]"
     ]
    },
    {
     "name": "stdout",
     "output_type": "stream",
     "text": [
      "Epoch 20 Test Loss: 0.7938612518103226, Test Accuracy: 0.65\n"
     ]
    },
    {
     "name": "stderr",
     "output_type": "stream",
     "text": [
      "\n"
     ]
    }
   ],
   "source": [
    "device = torch.device('cuda' if torch.cuda.is_available() else 'cpu')\n",
    "model = MultimodalSentimentModel(\n",
    "    audio_feature_dim=audio_feature_dim,\n",
    "    facial_feature_dim=facial_feature_dim,\n",
    "    text_feature_dim=text_feature_dim,\n",
    "    encoding_dim=encoding_dim,\n",
    "    output_dim=output_dim,\n",
    "    dropout_rate=dropout_rate\n",
    ").to(device)\n",
    "\n",
    "optimizer = Adam(model.parameters(), lr=learning_rate)\n",
    "\n",
    "train_loader, validate_loader, test_loader = create_dataloaders(h5_file, batch_size)\n",
    "# print_loader_sizes(train_loader, validate_loader, test_loader)\n",
    "\n",
    "training_losses, validation_losses, last_epoch_with_lower_val_loss  = train_and_validate(model, optimizer, train_loader, validate_loader, num_epochs, device, learning_rate)\n",
    "plot_losses(training_losses, validation_losses)\n",
    "\n",
    "if last_epoch_with_lower_val_loss > 0:\n",
    "    best_model_path = f'mmsa_best.pth'\n",
    "    model, optimizer, _ = load_checkpoint(best_model_path, model, optimizer)\n",
    "    print(f\"Testing the model from epoch {last_epoch_with_lower_val_loss}\")\n",
    "    test(model, test_loader, device, last_epoch_with_lower_val_loss)\n",
    "else:\n",
    "    print(\"No epoch where the validation loss was lower than the training loss was found.\")"
   ]
  }
 ],
 "metadata": {
  "kernelspec": {
   "display_name": "SUTD",
   "language": "python",
   "name": "python3"
  },
  "language_info": {
   "codemirror_mode": {
    "name": "ipython",
    "version": 3
   },
   "file_extension": ".py",
   "mimetype": "text/x-python",
   "name": "python",
   "nbconvert_exporter": "python",
   "pygments_lexer": "ipython3",
   "version": "3.9.18"
  }
 },
 "nbformat": 4,
 "nbformat_minor": 2
}
