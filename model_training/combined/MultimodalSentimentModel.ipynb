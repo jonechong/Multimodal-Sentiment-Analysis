{
 "cells": [
  {
   "cell_type": "markdown",
   "metadata": {},
   "source": [
    "# Multimodal Sentiment Model"
   ]
  },
  {
   "cell_type": "code",
   "execution_count": 13,
   "metadata": {},
   "outputs": [],
   "source": [
    "import os\n",
    "import torch\n",
    "import torch.nn as nn\n",
    "import torch.nn.functional as F\n",
    "import h5py\n",
    "from torch.utils.data import Dataset, DataLoader\n",
    "from torch.optim import Adam\n",
    "from tqdm import tqdm\n",
    "import matplotlib.pyplot as plt"
   ]
  },
  {
   "cell_type": "markdown",
   "metadata": {},
   "source": [
    "## Model Definition"
   ]
  },
  {
   "cell_type": "code",
   "execution_count": 14,
   "metadata": {},
   "outputs": [],
   "source": [
    "class Autoencoder(nn.Module):\n",
    "    def __init__(self, input_dim, encoding_dim):\n",
    "        super(Autoencoder, self).__init__()\n",
    "        \n",
    "        self.encoder = nn.Sequential(\n",
    "            nn.Linear(input_dim, 512),\n",
    "            nn.ReLU(),\n",
    "            nn.Linear(512, encoding_dim),\n",
    "            nn.ReLU()\n",
    "        )\n",
    "        self.decoder = nn.Sequential(\n",
    "            nn.Linear(encoding_dim, 512),\n",
    "            nn.ReLU(),\n",
    "            nn.Linear(512, input_dim),\n",
    "            nn.ReLU()\n",
    "        )\n",
    "\n",
    "    def forward(self, x):\n",
    "        encoded = self.encoder(x)\n",
    "        decoded = self.decoder(encoded)\n",
    "        return encoded, decoded"
   ]
  },
  {
   "cell_type": "code",
   "execution_count": 88,
   "metadata": {},
   "outputs": [],
   "source": [
    "class MultimodalSentimentModel(nn.Module):\n",
    "    def __init__(self, audio_feature_dim, facial_feature_dim, text_feature_dim, encoding_dim, output_dim, dropout_rate=0):\n",
    "        super(MultimodalSentimentModel, self).__init__()\n",
    "        \n",
    "        total_feature_dim = encoding_dim * 3\n",
    "\n",
    "        self.fc = nn.Linear(encoding_dim, output_dim)\n",
    "\n",
    "        self.face_autoencoder = Autoencoder(input_dim=facial_feature_dim, encoding_dim=encoding_dim)\n",
    "        self.text_autoencoder = Autoencoder(input_dim=text_feature_dim, encoding_dim=encoding_dim)\n",
    "        self.audio_autoencoder = Autoencoder(input_dim=audio_feature_dim, encoding_dim=encoding_dim)\n",
    "        self.concat_autoencoder = Autoencoder(input_dim=total_feature_dim, encoding_dim=encoding_dim)\n",
    "        \n",
    "        self.dropout = nn.Dropout(dropout_rate)\n",
    "\n",
    "\n",
    "    def forward(self, audio_features, facial_features, text_features):\n",
    "        text_encoded, _ = self.text_autoencoder(text_features)\n",
    "        face_encoded, _ = self.face_autoencoder(facial_features)\n",
    "        audio_encoded, _ = self.audio_autoencoder(audio_features)\n",
    "        combined_features = torch.cat((audio_encoded, face_encoded, text_encoded), dim=1)\n",
    "        concat_features, _ = self.concat_autoencoder(combined_features)\n",
    "        x = F.relu(self.fc(concat_features))\n",
    "        x = self.dropout(x)\n",
    "\n",
    "        \n",
    "        return x"
   ]
  },
  {
   "cell_type": "markdown",
   "metadata": {},
   "source": [
    "## Dataset Definition"
   ]
  },
  {
   "cell_type": "code",
   "execution_count": 16,
   "metadata": {},
   "outputs": [],
   "source": [
    "class MultimodalDataset(Dataset):\n",
    "    def __init__(self, h5_file, split='train'):\n",
    "        self.h5_file_path = h5_file\n",
    "        self.split = split\n",
    "        self.groups = []\n",
    "        self.file = None\n",
    "        self.open_file()\n",
    "        \n",
    "        if self.file is not None:\n",
    "            self.collect_groups()\n",
    "\n",
    "    def open_file(self):\n",
    "        try:\n",
    "            self.file = h5py.File(self.h5_file_path, 'r')\n",
    "        except Exception as e:\n",
    "            print(f\"Failed to open file {self.h5_file_path}: {e}\")\n",
    "\n",
    "    def collect_groups(self):\n",
    "        for group_name in self.file:\n",
    "            if self.file[group_name].attrs['split'] == self.split:\n",
    "                self.groups.append(group_name)\n",
    "                \n",
    "    def __len__(self):\n",
    "        return len(self.groups)\n",
    "\n",
    "    def __getitem__(self, idx):\n",
    "        if self.file is None:\n",
    "            print(\"HDF5 file is not opened.\")\n",
    "            return None\n",
    "        \n",
    "        try:\n",
    "            group = self.file[self.groups[idx]]\n",
    "            \n",
    "            audio_features = torch.tensor(group['audio_features_averaged'][:], dtype=torch.float32)\n",
    "            facial_features = torch.tensor(group['averaged_facial_features'][:], dtype=torch.float32)\n",
    "            text_features = torch.tensor(group['bert_text_features_512'][:], dtype=torch.float32)\n",
    "            \n",
    "            label_mapping = {'Negative': 0, 'Neutral': 1, 'Positive': 2}\n",
    "            label = torch.tensor(label_mapping[group.attrs['label']], dtype=torch.long)\n",
    "\n",
    "            return audio_features, facial_features, text_features, label\n",
    "        except Exception as e:\n",
    "            print(f\"Error loading data point {idx}: {e}\")\n",
    "            return None\n",
    "\n",
    "    def __del__(self):\n",
    "        if self.file is not None:\n",
    "            self.file.close()\n",
    "            print(\"HDF5 file closed.\")\n",
    "    \n",
    "\n",
    "def create_dataloaders(h5_file, batch_size=64):\n",
    "    train_dataset = MultimodalDataset(h5_file, 'train')\n",
    "    validate_dataset = MultimodalDataset(h5_file, 'validate')\n",
    "    test_dataset = MultimodalDataset(h5_file, 'test')\n",
    "\n",
    "    train_loader = DataLoader(train_dataset, batch_size=batch_size, shuffle=True, num_workers=0)\n",
    "    validate_loader = DataLoader(validate_dataset, batch_size=batch_size, shuffle=False, num_workers=0)\n",
    "    test_loader = DataLoader(test_dataset, batch_size=batch_size, shuffle=False, num_workers=0)\n",
    "\n",
    "    return train_loader, validate_loader, test_loader\n",
    "\n",
    "def print_loader_sizes(train_loader, validate_loader, test_loader):\n",
    "    num_train_batches = len(train_loader)\n",
    "    num_validate_batches = len(validate_loader)\n",
    "    num_test_batches = len(test_loader)\n",
    "\n",
    "    print(f\"Total number of batches in Train Loader: {num_train_batches}\")\n",
    "    print(f\"Total number of batches in Validate Loader: {num_validate_batches}\")\n",
    "    print(f\"Total number of batches in Test Loader: {num_test_batches}\")\n",
    "\n",
    "    first_batch_train = next(iter(train_loader))\n",
    "    print(f\"Shapes of the first train batch - Audio Features: {first_batch_train[0].shape}, Facial Features: {first_batch_train[1].shape}, Text Features: {first_batch_train[2].shape}, Labels: {first_batch_train[3].shape}\")\n",
    "\n",
    "    first_batch_validate = next(iter(validate_loader))\n",
    "    print(f\"Shapes of the first validate batch - Audio Features: {first_batch_validate[0].shape}, Facial Features: {first_batch_validate[1].shape}, Text Features: {first_batch_validate[2].shape}, Labels: {first_batch_validate[3].shape}\")\n",
    "\n",
    "    first_batch_test = next(iter(test_loader))\n",
    "    print(f\"Shapes of the first test batch - Audio Features: {first_batch_test[0].shape}, Facial Features: {first_batch_test[1].shape}, Text Features: {first_batch_test[2].shape}, Labels: {first_batch_test[3].shape}\")\n"
   ]
  },
  {
   "cell_type": "markdown",
   "metadata": {},
   "source": [
    "## Training functions"
   ]
  },
  {
   "cell_type": "code",
   "execution_count": 17,
   "metadata": {},
   "outputs": [],
   "source": [
    "def save_checkpoint(model, optimizer, epoch, filepath):\n",
    "    torch.save({\n",
    "        'epoch': epoch,\n",
    "        'model_state_dict': model.state_dict(),\n",
    "        'optimizer_state_dict': optimizer.state_dict()\n",
    "    }, filepath)\n",
    "\n",
    "def load_checkpoint(filepath, model, optimizer):\n",
    "    checkpoint = torch.load(filepath)\n",
    "    model.load_state_dict(checkpoint['model_state_dict'])\n",
    "    optimizer.load_state_dict(checkpoint['optimizer_state_dict'])\n",
    "    epoch = checkpoint['epoch']\n",
    "    return model, optimizer, epoch\n"
   ]
  },
  {
   "cell_type": "code",
   "execution_count": 18,
   "metadata": {},
   "outputs": [],
   "source": [
    "def train(model, dataloader, loss_fn, optimizer, device):\n",
    "    model.train()\n",
    "    total_loss = 0\n",
    "    correct_predictions = 0\n",
    "\n",
    "    for audio_features, facial_features, text_features, labels in tqdm(dataloader):\n",
    "        audio_features = audio_features.to(device)\n",
    "        facial_features = facial_features.to(device)\n",
    "        text_features = text_features.to(device)\n",
    "        labels = labels.to(device)\n",
    "\n",
    "        optimizer.zero_grad()\n",
    "        outputs = model(audio_features, facial_features, text_features)\n",
    "        loss = loss_fn(outputs, labels)\n",
    "        loss.backward()\n",
    "        optimizer.step()\n",
    "\n",
    "        total_loss += loss.item()\n",
    "        _, predicted = torch.max(outputs, 1)\n",
    "        correct_predictions += (predicted == labels).sum().item()\n",
    "\n",
    "    avg_loss = total_loss / len(dataloader)\n",
    "    accuracy = correct_predictions / len(dataloader.dataset)\n",
    "    return avg_loss, accuracy\n",
    "\n",
    "def validate(model, dataloader, loss_fn, device):\n",
    "    model.eval()\n",
    "    total_loss = 0\n",
    "    correct_predictions = 0\n",
    "\n",
    "    with torch.no_grad():\n",
    "        for audio_features, facial_features, text_features, labels in tqdm(dataloader):\n",
    "            audio_features = audio_features.to(device)\n",
    "            facial_features = facial_features.to(device)\n",
    "            text_features = text_features.to(device)\n",
    "            labels = labels.to(device)\n",
    "\n",
    "            outputs = model(audio_features, facial_features, text_features)\n",
    "            loss = loss_fn(outputs, labels)\n",
    "\n",
    "            total_loss += loss.item()\n",
    "            _, predicted = torch.max(outputs, 1)\n",
    "            correct_predictions += (predicted == labels).sum().item()\n",
    "\n",
    "    avg_loss = total_loss / len(dataloader)\n",
    "    accuracy = correct_predictions / len(dataloader.dataset)\n",
    "    return avg_loss, accuracy\n",
    "\n",
    "def train_and_validate(model, optimizer,train_loader, validate_loader, num_epochs, device, learning_rate):\n",
    "    loss_fn = nn.CrossEntropyLoss()\n",
    "\n",
    "    training_losses = []\n",
    "    validation_losses = []\n",
    "    last_epoch_with_lower_val_loss = 0  # Track the last epoch where validation loss < training loss\n",
    "\n",
    "    for epoch in range(1, num_epochs + 1):\n",
    "        train_loss, train_accuracy = train(model, train_loader, loss_fn, optimizer, device)\n",
    "        val_loss, val_accuracy = validate(model, validate_loader, loss_fn, device)\n",
    "        training_losses.append(train_loss)\n",
    "        validation_losses.append(val_loss)\n",
    "\n",
    "        if val_loss == min(validation_losses):\n",
    "            last_epoch_with_lower_val_loss = epoch  \n",
    "            save_checkpoint(model, optimizer, epoch, f'mmsa_best.pth')  \n",
    "\n",
    "        print(f'Epoch {epoch}, Train Loss: {train_loss}, Train Accuracy: {train_accuracy}, Val Loss: {val_loss}, Val Accuracy: {val_accuracy}')\n",
    "        \n",
    "        \n",
    "        save_checkpoint(model, optimizer, epoch, f'mmsa_{epoch}.pth')\n",
    "\n",
    "    return training_losses, validation_losses, last_epoch_with_lower_val_loss\n",
    "\n",
    "def plot_losses(training_losses, validation_losses):\n",
    "    epochs = range(1, len(training_losses) + 1)  \n",
    "    plt.plot(epochs, training_losses, label='Training Loss')\n",
    "    plt.plot(epochs, validation_losses, label='Validation Loss')\n",
    "    plt.xlabel('Epochs')\n",
    "    plt.ylabel('Loss')\n",
    "    plt.title('Training vs Validation Loss')\n",
    "    plt.xticks(epochs)  \n",
    "    plt.legend()\n",
    "    plt.show()\n",
    "\n",
    "def test(model, test_loader, device, epoch):\n",
    "\n",
    "    test_loss, test_accuracy = validate(model, test_loader, nn.CrossEntropyLoss(), device)\n",
    "    print(f'Epoch {epoch} Test Loss: {test_loss}, Test Accuracy: {test_accuracy}')"
   ]
  },
  {
   "cell_type": "markdown",
   "metadata": {},
   "source": [
    "## Execution"
   ]
  },
  {
   "cell_type": "code",
   "execution_count": 102,
   "metadata": {},
   "outputs": [],
   "source": [
    "# Hyperparams\n",
    "batch_size = 64\n",
    "num_epochs = 20\n",
    "audio_feature_dim = 45 \n",
    "facial_feature_dim = 2048 \n",
    "text_feature_dim = 768 \n",
    "encoding_dim = 512\n",
    "\n",
    "learning_rate = 1e-5\n",
    "dropout_rate = 0.1\n",
    "\n",
    "# Other definitions\n",
    "h5_file = r'combined_features.h5'\n",
    "output_dim = 3  "
   ]
  },
  {
   "cell_type": "code",
   "execution_count": 103,
   "metadata": {},
   "outputs": [
    {
     "name": "stdout",
     "output_type": "stream",
     "text": [
      "HDF5 file closed.\n",
      "HDF5 file closed.\n",
      "HDF5 file closed.\n"
     ]
    },
    {
     "name": "stderr",
     "output_type": "stream",
     "text": [
      "100%|██████████| 177/177 [00:04<00:00, 43.95it/s]\n",
      "100%|██████████| 22/22 [00:00<00:00, 52.75it/s]\n"
     ]
    },
    {
     "name": "stdout",
     "output_type": "stream",
     "text": [
      "Epoch 1, Train Loss: 1.0955027321637687, Train Accuracy: 0.34846201577874303, Val Loss: 1.0896616198799827, Val Accuracy: 0.37776193870277974\n"
     ]
    },
    {
     "name": "stderr",
     "output_type": "stream",
     "text": [
      "100%|██████████| 177/177 [00:03<00:00, 44.53it/s]\n",
      "100%|██████████| 22/22 [00:00<00:00, 55.97it/s]\n"
     ]
    },
    {
     "name": "stdout",
     "output_type": "stream",
     "text": [
      "Epoch 2, Train Loss: 1.0753529058337885, Train Accuracy: 0.371686907189079, Val Loss: 1.0506774620576338, Val Accuracy: 0.44119743406985035\n"
     ]
    },
    {
     "name": "stderr",
     "output_type": "stream",
     "text": [
      "100%|██████████| 177/177 [00:03<00:00, 45.26it/s]\n",
      "100%|██████████| 22/22 [00:00<00:00, 54.05it/s]\n"
     ]
    },
    {
     "name": "stdout",
     "output_type": "stream",
     "text": [
      "Epoch 3, Train Loss: 1.0350571864068845, Train Accuracy: 0.4107791862423544, Val Loss: 1.004375617612492, Val Accuracy: 0.47255880256593014\n"
     ]
    },
    {
     "name": "stderr",
     "output_type": "stream",
     "text": [
      "100%|██████████| 177/177 [00:03<00:00, 44.95it/s]\n",
      "100%|██████████| 22/22 [00:00<00:00, 54.09it/s]\n"
     ]
    },
    {
     "name": "stdout",
     "output_type": "stream",
     "text": [
      "Epoch 4, Train Loss: 1.0076825076577354, Train Accuracy: 0.4323198298023225, Val Loss: 0.9861192405223846, Val Accuracy: 0.48253741981468284\n"
     ]
    },
    {
     "name": "stderr",
     "output_type": "stream",
     "text": [
      "100%|██████████| 177/177 [00:03<00:00, 45.36it/s]\n",
      "100%|██████████| 22/22 [00:00<00:00, 54.99it/s]\n"
     ]
    },
    {
     "name": "stdout",
     "output_type": "stream",
     "text": [
      "Epoch 5, Train Loss: 0.9900781761454998, Train Accuracy: 0.4414502260437904, Val Loss: 0.9646934758533131, Val Accuracy: 0.488952245188881\n"
     ]
    },
    {
     "name": "stderr",
     "output_type": "stream",
     "text": [
      "100%|██████████| 177/177 [00:03<00:00, 45.24it/s]\n",
      "100%|██████████| 22/22 [00:00<00:00, 56.47it/s]\n"
     ]
    },
    {
     "name": "stdout",
     "output_type": "stream",
     "text": [
      "Epoch 6, Train Loss: 0.977947817347144, Train Accuracy: 0.44685754808970835, Val Loss: 0.9499779451977123, Val Accuracy: 0.49679258731290094\n"
     ]
    },
    {
     "name": "stderr",
     "output_type": "stream",
     "text": [
      "100%|██████████| 177/177 [00:04<00:00, 42.37it/s]\n",
      "100%|██████████| 22/22 [00:00<00:00, 51.64it/s]\n"
     ]
    },
    {
     "name": "stdout",
     "output_type": "stream",
     "text": [
      "Epoch 7, Train Loss: 0.970319351234005, Train Accuracy: 0.4499601099193334, Val Loss: 0.9465655467726968, Val Accuracy: 0.49394155381325733\n"
     ]
    },
    {
     "name": "stderr",
     "output_type": "stream",
     "text": [
      "100%|██████████| 177/177 [00:04<00:00, 37.70it/s]\n",
      "100%|██████████| 22/22 [00:00<00:00, 54.99it/s]\n"
     ]
    },
    {
     "name": "stdout",
     "output_type": "stream",
     "text": [
      "Epoch 8, Train Loss: 0.9681281208318505, Train Accuracy: 0.44783263895044767, Val Loss: 0.9402530924840407, Val Accuracy: 0.49679258731290094\n"
     ]
    },
    {
     "name": "stderr",
     "output_type": "stream",
     "text": [
      "100%|██████████| 177/177 [00:04<00:00, 38.31it/s]\n",
      "100%|██████████| 22/22 [00:00<00:00, 54.06it/s]\n"
     ]
    },
    {
     "name": "stdout",
     "output_type": "stream",
     "text": [
      "Epoch 9, Train Loss: 0.965032220897028, Train Accuracy: 0.4476553497030405, Val Loss: 0.9452968564900485, Val Accuracy: 0.49679258731290094\n"
     ]
    },
    {
     "name": "stderr",
     "output_type": "stream",
     "text": [
      "100%|██████████| 177/177 [00:03<00:00, 48.61it/s]\n",
      "100%|██████████| 22/22 [00:00<00:00, 65.66it/s]\n"
     ]
    },
    {
     "name": "stdout",
     "output_type": "stream",
     "text": [
      "Epoch 10, Train Loss: 0.959241235323545, Train Accuracy: 0.45013739916674056, Val Loss: 0.9344721301035448, Val Accuracy: 0.5003563791874555\n"
     ]
    },
    {
     "name": "stderr",
     "output_type": "stream",
     "text": [
      "100%|██████████| 177/177 [00:03<00:00, 52.55it/s]\n",
      "100%|██████████| 22/22 [00:00<00:00, 58.18it/s]\n"
     ]
    },
    {
     "name": "stdout",
     "output_type": "stream",
     "text": [
      "Epoch 11, Train Loss: 0.9601720150581188, Train Accuracy: 0.45332860562006916, Val Loss: 0.9369804669510234, Val Accuracy: 0.4982181040627227\n"
     ]
    },
    {
     "name": "stderr",
     "output_type": "stream",
     "text": [
      "100%|██████████| 177/177 [00:03<00:00, 46.92it/s]\n",
      "100%|██████████| 22/22 [00:00<00:00, 54.12it/s]\n"
     ]
    },
    {
     "name": "stdout",
     "output_type": "stream",
     "text": [
      "Epoch 12, Train Loss: 0.9465975485279061, Train Accuracy: 0.4548355642230299, Val Loss: 0.9263135845010931, Val Accuracy: 0.5067712045616536\n"
     ]
    },
    {
     "name": "stderr",
     "output_type": "stream",
     "text": [
      "100%|██████████| 177/177 [00:04<00:00, 43.49it/s]\n",
      "100%|██████████| 22/22 [00:00<00:00, 55.69it/s]\n"
     ]
    },
    {
     "name": "stdout",
     "output_type": "stream",
     "text": [
      "Epoch 13, Train Loss: 0.9444638813956309, Train Accuracy: 0.453151316372662, Val Loss: 0.9228634807196531, Val Accuracy: 0.5081967213114754\n"
     ]
    },
    {
     "name": "stderr",
     "output_type": "stream",
     "text": [
      "100%|██████████| 177/177 [00:04<00:00, 43.64it/s]\n",
      "100%|██████████| 22/22 [00:00<00:00, 54.38it/s]\n"
     ]
    },
    {
     "name": "stdout",
     "output_type": "stream",
     "text": [
      "Epoch 14, Train Loss: 0.9398079369701234, Train Accuracy: 0.4606861093874656, Val Loss: 0.9272334602746096, Val Accuracy: 0.49679258731290094\n"
     ]
    },
    {
     "name": "stderr",
     "output_type": "stream",
     "text": [
      "100%|██████████| 177/177 [00:04<00:00, 43.68it/s]\n",
      "100%|██████████| 22/22 [00:00<00:00, 55.71it/s]\n"
     ]
    },
    {
     "name": "stdout",
     "output_type": "stream",
     "text": [
      "Epoch 15, Train Loss: 0.9339354580405068, Train Accuracy: 0.45873592766598703, Val Loss: 0.9213480326262388, Val Accuracy: 0.49750534568781185\n"
     ]
    },
    {
     "name": "stderr",
     "output_type": "stream",
     "text": [
      "100%|██████████| 177/177 [00:04<00:00, 43.78it/s]\n",
      "100%|██████████| 22/22 [00:00<00:00, 55.00it/s]\n"
     ]
    },
    {
     "name": "stdout",
     "output_type": "stream",
     "text": [
      "Epoch 16, Train Loss: 0.925923890986685, Train Accuracy: 0.46272493573264784, Val Loss: 0.9198024868965149, Val Accuracy: 0.49964362081254454\n"
     ]
    },
    {
     "name": "stderr",
     "output_type": "stream",
     "text": [
      "100%|██████████| 177/177 [00:04<00:00, 43.58it/s]\n",
      "100%|██████████| 22/22 [00:00<00:00, 54.32it/s]\n"
     ]
    },
    {
     "name": "stdout",
     "output_type": "stream",
     "text": [
      "Epoch 17, Train Loss: 0.9289967552416742, Train Accuracy: 0.4597996631504299, Val Loss: 0.9204041226343675, Val Accuracy: 0.4982181040627227\n"
     ]
    },
    {
     "name": "stderr",
     "output_type": "stream",
     "text": [
      "100%|██████████| 177/177 [00:04<00:00, 43.69it/s]\n",
      "100%|██████████| 22/22 [00:00<00:00, 53.91it/s]\n"
     ]
    },
    {
     "name": "stdout",
     "output_type": "stream",
     "text": [
      "Epoch 18, Train Loss: 0.9175730357735844, Train Accuracy: 0.46600478680968, Val Loss: 0.9144090847535566, Val Accuracy: 0.5024946543121882\n"
     ]
    },
    {
     "name": "stderr",
     "output_type": "stream",
     "text": [
      "100%|██████████| 177/177 [00:04<00:00, 43.98it/s]\n",
      "100%|██████████| 22/22 [00:00<00:00, 56.02it/s]\n"
     ]
    },
    {
     "name": "stdout",
     "output_type": "stream",
     "text": [
      "Epoch 19, Train Loss: 0.9168227338521494, Train Accuracy: 0.46378867121709066, Val Loss: 0.9241532195698131, Val Accuracy: 0.4953670705630791\n"
     ]
    },
    {
     "name": "stderr",
     "output_type": "stream",
     "text": [
      "100%|██████████| 177/177 [00:04<00:00, 43.56it/s]\n",
      "100%|██████████| 22/22 [00:00<00:00, 54.44it/s]\n"
     ]
    },
    {
     "name": "stdout",
     "output_type": "stream",
     "text": [
      "Epoch 20, Train Loss: 0.9173960534192748, Train Accuracy: 0.4645864728304228, Val Loss: 0.9192094233903018, Val Accuracy: 0.5024946543121882\n"
     ]
    },
    {
     "data": {
      "image/png": "[encoded data removed]",
      "text/plain": [
       "<Figure size 640x480 with 1 Axes>"
      ]
     },
     "metadata": {},
     "output_type": "display_data"
    },
    {
     "name": "stdout",
     "output_type": "stream",
     "text": [
      "Testing the model from epoch 18\n"
     ]
    },
    {
     "name": "stderr",
     "output_type": "stream",
     "text": [
      "100%|██████████| 23/23 [00:00<00:00, 52.63it/s]"
     ]
    },
    {
     "name": "stdout",
     "output_type": "stream",
     "text": [
      "Epoch 18 Test Loss: 0.9113024369530056, Test Accuracy: 0.49014084507042255\n"
     ]
    },
    {
     "name": "stderr",
     "output_type": "stream",
     "text": [
      "\n"
     ]
    }
   ],
   "source": [
    "device = torch.device('cuda' if torch.cuda.is_available() else 'cpu')\n",
    "model = MultimodalSentimentModel(\n",
    "    audio_feature_dim=audio_feature_dim,\n",
    "    facial_feature_dim=facial_feature_dim,\n",
    "    text_feature_dim=text_feature_dim,\n",
    "    encoding_dim=encoding_dim,\n",
    "    output_dim=output_dim,\n",
    "    dropout_rate=dropout_rate\n",
    ").to(device)\n",
    "\n",
    "optimizer = Adam(model.parameters(), lr=learning_rate)\n",
    "\n",
    "train_loader, validate_loader, test_loader = create_dataloaders(h5_file, batch_size)\n",
    "# print_loader_sizes(train_loader, validate_loader, test_loader)\n",
    "\n",
    "training_losses, validation_losses, last_epoch_with_lower_val_loss  = train_and_validate(model, optimizer, train_loader, validate_loader, num_epochs, device, learning_rate)\n",
    "plot_losses(training_losses, validation_losses)\n",
    "\n",
    "if last_epoch_with_lower_val_loss > 0:\n",
    "    best_model_path = f'mmsa_best.pth'\n",
    "    model, optimizer, _ = load_checkpoint(best_model_path, model, optimizer)\n",
    "    print(f\"Testing the model from epoch {last_epoch_with_lower_val_loss}\")\n",
    "    test(model, test_loader, device, last_epoch_with_lower_val_loss)\n",
    "else:\n",
    "    print(\"No epoch where the validation loss was lower than the training loss was found.\")"
   ]
  },
  {
   "cell_type": "markdown",
   "metadata": {},
   "source": [
    "## Ambitious Grid Search"
   ]
  },
  {
   "cell_type": "code",
   "execution_count": null,
   "metadata": {},
   "outputs": [],
   "source": [
    "def ensure_dir(directory):\n",
    "    if not os.path.exists(directory):\n",
    "        os.makedirs(directory)\n",
    "\n",
    "def plot_losses(training_losses, validation_losses, test_accuracy, lr, hidden_size, second_hidden_size, save_path):\n",
    "    epochs = range(1, len(training_losses) + 1)\n",
    "    plt.figure(figsize=(10, 6))\n",
    "    plt.plot(epochs, training_losses, label='Training Loss')\n",
    "    plt.plot(epochs, validation_losses, label='Validation Loss')\n",
    "    plt.title(f'Training vs Validation Loss\\nlr={lr}, hidden_size={hidden_size}, second_hidden_size={second_hidden_size}\\nTest Accuracy: {test_accuracy:.4f}')\n",
    "    plt.xlabel('Epochs')\n",
    "    plt.ylabel('Loss')\n",
    "    plt.legend()\n",
    "    plt.xticks(epochs)\n",
    "    plt.savefig(save_path)\n",
    "    plt.close()\n",
    "\n",
    "def train_and_validate(model, optimizer, train_loader, validate_loader, num_epochs, device, model_dir):\n",
    "    loss_fn = nn.CrossEntropyLoss()\n",
    "\n",
    "    training_losses = []\n",
    "    validation_losses = []\n",
    "    last_epoch_with_lower_val_loss = 0  # Track the last epoch where validation loss < training loss\n",
    "\n",
    "    for epoch in range(1, num_epochs + 1):\n",
    "        train_loss, train_accuracy = train(model, train_loader, loss_fn, optimizer, device)\n",
    "        val_loss, val_accuracy = validate(model, validate_loader, loss_fn, device)\n",
    "        training_losses.append(train_loss)\n",
    "        validation_losses.append(val_loss)\n",
    "\n",
    "        if val_loss < train_loss:\n",
    "            last_epoch_with_lower_val_loss = epoch  \n",
    "            best_checkpoint_path = os.path.join(model_dir, f\"best_model.pth\")\n",
    "            save_checkpoint(model, optimizer, epoch, best_checkpoint_path) \n",
    "\n",
    "        print(f'Epoch {epoch}, Train Loss: {train_loss}, Train Accuracy: {train_accuracy}, Val Loss: {val_loss}, Val Accuracy: {val_accuracy}')\n",
    "        \n",
    "        # Save the model checkpoint for every epoch as well\n",
    "        checkpoint_path = os.path.join(model_dir, f\"model_epoch{epoch}.pth\")\n",
    "        save_checkpoint(model, optimizer, epoch, checkpoint_path)\n",
    "\n",
    "    return training_losses, validation_losses, last_epoch_with_lower_val_loss\n",
    "\n",
    "\n",
    "def test(model, test_loader, device, epoch):\n",
    "    test_loss, test_accuracy = validate(model, test_loader, nn.CrossEntropyLoss(), device)\n",
    "    print(f'Epoch {epoch} Test Loss: {test_loss:.4f}, Test Accuracy: {test_accuracy:.4f}')\n",
    "    return test_loss, test_accuracy\n",
    "\n",
    "def grid_search(train_loader, validate_loader, test_loader, device, param_grid, num_epochs):\n",
    "    results = []\n",
    "    best_test_accuracy = -1 \n",
    "    best_params = {} \n",
    "    base_model_dir = \"models\"\n",
    "    ensure_dir(base_model_dir) \n",
    "\n",
    "    for lr in param_grid['learning_rate']:\n",
    "        for hidden_size in param_grid['hidden_layer_size']:\n",
    "            for second_hidden_size in param_grid['second_hidden_layer_size']:\n",
    "                model_dir = f\"{base_model_dir}/lr{lr}_hs{hidden_size}_shs{second_hidden_size}\"\n",
    "                ensure_dir(model_dir) \n",
    "                \n",
    "                print(f\"\\nTraining with lr={lr}, hidden_layer_size={hidden_size}, second_hidden_layer_size={second_hidden_size}\")\n",
    "                model = MultimodalSentimentModel(\n",
    "                    audio_feature_dim=45,\n",
    "                    facial_feature_dim=2048,\n",
    "                    text_feature_dim=768,\n",
    "                    output_dim=3,\n",
    "                    hidden_layer_size=hidden_size,\n",
    "                    second_hidden_layer_size=second_hidden_size,\n",
    "                    dropout_rate=0.1\n",
    "                ).to(device)\n",
    "                \n",
    "                optimizer = Adam(model.parameters(), lr=lr)\n",
    "                \n",
    "                training_losses, validation_losses, last_epoch_with_lower_val_loss = train_and_validate(\n",
    "                    model, optimizer, train_loader, validate_loader, num_epochs, device, model_dir)\n",
    "\n",
    "                test_accuracy = None\n",
    "                if last_epoch_with_lower_val_loss > 0:\n",
    "                    best_model_path = f\"{model_dir}/best_model.pth\"\n",
    "                    model, optimizer, _ = load_checkpoint(best_model_path, model, optimizer)\n",
    "                    _, test_accuracy = test(model, test_loader, device, last_epoch_with_lower_val_loss)\n",
    "                    if test_accuracy > best_test_accuracy:\n",
    "                        best_test_accuracy = test_accuracy\n",
    "                        best_params = {\n",
    "                            'learning_rate': lr,\n",
    "                            'hidden_layer_size': hidden_size,\n",
    "                            'second_hidden_layer_size': second_hidden_size,\n",
    "                            'last_epoch_with_lower_val_loss': last_epoch_with_lower_val_loss,\n",
    "                            'test_accuracy': test_accuracy\n",
    "                        }\n",
    "\n",
    "                plot_save_path = f\"plots/loss_plot_lr{lr}_hs{hidden_size}_shs{second_hidden_size}.png\"\n",
    "                plot_losses(training_losses, validation_losses, test_accuracy, lr, hidden_size, second_hidden_size, plot_save_path)\n",
    "\n",
    "                results.append({\n",
    "                    'learning_rate': lr,\n",
    "                    'hidden_layer_size': hidden_size,\n",
    "                    'second_hidden_layer_size': second_hidden_size,\n",
    "                    'last_epoch_with_lower_val_loss': last_epoch_with_lower_val_loss,\n",
    "                    'test_accuracy': test_accuracy\n",
    "                })\n",
    "\n",
    "    print(\"\\nGrid Search Summary:\")\n",
    "    for result in results:\n",
    "        print(result)\n",
    "\n",
    "    return results, test_accuracy, best_params\n",
    "\n"
   ]
  },
  {
   "cell_type": "code",
   "execution_count": null,
   "metadata": {},
   "outputs": [],
   "source": [
    "# param_grid = {\n",
    "#     'learning_rate': [1e-2, 5e-3, 1e-3, 5e-4, 1e-4, 5e-5, 1e-5, 5e-6, 1e-6],  \n",
    "#     'hidden_layer_size': [2048, 1024, 512, 256, 128, 64, 32],  \n",
    "#     'second_hidden_layer_size': [2048, 1024, 512, 256, 128, 64, 32]  \n",
    "# }\n",
    "\n",
    "\n",
    "# results = grid_search(train_loader, validate_loader, test_loader, device, param_grid, num_epochs=20)\n"
   ]
  },
  {
   "cell_type": "code",
   "execution_count": 11,
   "metadata": {},
   "outputs": [
    {
     "ename": "NameError",
     "evalue": "name 'results' is not defined",
     "output_type": "error",
     "traceback": [
      "\u001b[1;31m---------------------------------------------------------------------------\u001b[0m",
      "\u001b[1;31mNameError\u001b[0m                                 Traceback (most recent call last)",
      "Cell \u001b[1;32mIn[11], line 1\u001b[0m\n\u001b[1;32m----> 1\u001b[0m \u001b[43mresults\u001b[49m[\u001b[38;5;241m2\u001b[39m]\n",
      "\u001b[1;31mNameError\u001b[0m: name 'results' is not defined"
     ]
    }
   ],
   "source": [
    "results[2]"
   ]
  },
  {
   "cell_type": "code",
   "execution_count": null,
   "metadata": {},
   "outputs": [],
   "source": []
  }
 ],
 "metadata": {
  "kernelspec": {
   "display_name": "SUTD",
   "language": "python",
   "name": "python3"
  },
  "language_info": {
   "codemirror_mode": {
    "name": "ipython",
    "version": 3
   },
   "file_extension": ".py",
   "mimetype": "text/x-python",
   "name": "python",
   "nbconvert_exporter": "python",
   "pygments_lexer": "ipython3",
   "version": "3.9.18"
  }
 },
 "nbformat": 4,
 "nbformat_minor": 2
}
