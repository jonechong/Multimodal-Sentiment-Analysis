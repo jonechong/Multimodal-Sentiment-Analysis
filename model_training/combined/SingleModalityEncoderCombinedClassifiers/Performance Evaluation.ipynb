{
 "cells": [
  {
   "cell_type": "markdown",
   "id": "07ba8d64-2f4a-461d-ab61-3310f853dfe3",
   "metadata": {},
   "source": [
    "# Performance evaluation "
   ]
  },
  {
   "cell_type": "code",
   "execution_count": null,
   "id": "335dba67-526d-40c0-a108-7ad3ec62551e",
   "metadata": {},
   "outputs": [],
   "source": [
    "import matplotlib.pyplot as plt\n",
    "import seaborn as sns\n",
    "import numpy as np\n",
    "from sklearn.metrics import cohen_kappa_score, matthews_corrcoef\n",
    "from sklearn.metrics import accuracy_score, f1_score, confusion_matrix"
   ]
  },
  {
   "cell_type": "code",
   "execution_count": null,
   "id": "7324e109-54fb-4526-b111-718b31c99332",
   "metadata": {},
   "outputs": [],
   "source": [
    "def compare_model_performance(metrics_json):\n",
    "    n_models = len(metrics_json)\n",
    "    if n_models < 2 or n_models > 4:\n",
    "        raise ValueError(\"Function supports comparison between 2 to 4 models.\")\n",
    "\n",
    "    fig, axes = plt.subplots(nrows=2, ncols=n_models, figsize=(15, 10))\n",
    "    \n",
    "    accuracies = []\n",
    "    f1scores = []\n",
    "    kappas = []\n",
    "    mccs = []\n",
    "    \n",
    "    for i, (model_name, metrics) in enumerate(metrics_json.items()):\n",
    "\n",
    "        accuracy = metrics['accuracy']\n",
    "        f1score = metrics['f1score']\n",
    "        cm = np.array(metrics['confusion_matrix'])\n",
    "        true_labels = metrics['true_labels']\n",
    "        predicted_labels = metrics['predicted_labels']\n",
    "        kappa = cohen_kappa_score(true_labels, predicted_labels)\n",
    "        mcc = matthews_corrcoef(true_labels, predicted_labels)\n",
    "        \n",
    "        accuracies.append(accuracy)\n",
    "        f1scores.append(f1score)\n",
    "        kappas.append(kappa)\n",
    "        mccs.append(mcc)\n",
    "        \n",
    "        sns.heatmap(cm, annot=True, fmt='d', ax=axes[0, i], cmap='Blues')\n",
    "        axes[0, i].set_title(f'Confusion Matrix: {model_name}')\n",
    "        axes[0, i].set_xlabel('Predicted Labels')\n",
    "        axes[0, i].set_ylabel('True Labels')\n",
    "        \n",
    "        print(f\"Model: {model_name}\")\n",
    "        print(f\"Accuracy: {accuracy:.2f}\")\n",
    "        print(f\"F1 Score (Weighted): {f1score:.2f}\")\n",
    "        print(f\"Cohen's Kappa: {kappa:.2f}\")\n",
    "        print(f\"MCC: {mcc:.2f}\")\n",
    "        print(\"----------\")\n",
    "    \n",
    "    axes[1, 0].bar(metrics_json.keys(), accuracies)\n",
    "    axes[1, 0].set_title('Accuracy Comparison')\n",
    "    axes[1, 0].set_ylabel('Accuracy')\n",
    "\n",
    "    axes[1, 1].bar(metrics_json.keys(), f1scores)\n",
    "    axes[1, 1].set_title('F1 Score Comparison')\n",
    "    axes[1, 1].set_ylabel('F1 Score (Weighted)')\n",
    "\n",
    "    axes[1, 2].bar(metrics_json.keys(), kappas)\n",
    "    axes[1, 2].set_title(\"Cohen's Kappa Comparison\")\n",
    "    axes[1, 2].set_ylabel(\"Cohen's Kappa\")\n",
    "\n",
    "    axes[1, 3].bar(metrics_json.keys(), mccs)\n",
    "    axes[1, 3].set_title('MCC Comparison')\n",
    "    axes[1, 3].set_ylabel('MCC')\n",
    "\n",
    "    plt.tight_layout()\n",
    "    plt.show()"
   ]
  }
 ],
 "metadata": {
  "kernelspec": {
   "display_name": "Python 3 (ipykernel)",
   "language": "python",
   "name": "python3"
  },
  "language_info": {
   "codemirror_mode": {
    "name": "ipython",
    "version": 3
   },
   "file_extension": ".py",
   "mimetype": "text/x-python",
   "name": "python",
   "nbconvert_exporter": "python",
   "pygments_lexer": "ipython3",
   "version": "3.11.6"
  }
 },
 "nbformat": 4,
 "nbformat_minor": 5
}
