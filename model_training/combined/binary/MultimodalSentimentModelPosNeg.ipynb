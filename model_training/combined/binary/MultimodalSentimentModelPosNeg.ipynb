{
 "cells": [
  {
   "cell_type": "markdown",
   "metadata": {},
   "source": [
    "# Multimodal Sentiment Model"
   ]
  },
  {
   "cell_type": "code",
   "execution_count": 1,
   "metadata": {},
   "outputs": [],
   "source": [
    "import os\n",
    "import torch\n",
    "import torch.nn as nn\n",
    "import torch.nn.functional as F\n",
    "import h5py\n",
    "from torch.utils.data import Dataset, DataLoader\n",
    "from torch.optim import Adam\n",
    "from tqdm import tqdm\n",
    "import matplotlib.pyplot as plt"
   ]
  },
  {
   "cell_type": "markdown",
   "metadata": {},
   "source": [
    "## Model Definition"
   ]
  },
  {
   "cell_type": "code",
   "execution_count": 2,
   "metadata": {},
   "outputs": [],
   "source": [
    "class Autoencoder(nn.Module):\n",
    "    def __init__(self, input_dim, encoding_dim):\n",
    "        super(Autoencoder, self).__init__()\n",
    "        \n",
    "        self.encoder = nn.Sequential(\n",
    "            nn.Linear(input_dim, 512),\n",
    "            nn.ReLU(),\n",
    "            nn.Linear(512, encoding_dim),\n",
    "            nn.ReLU()\n",
    "        )\n",
    "        \n",
    "        self.decoder = nn.Sequential(\n",
    "            nn.Linear(encoding_dim, 512),\n",
    "            nn.ReLU(),\n",
    "            nn.Linear(512, input_dim),\n",
    "            nn.ReLU()\n",
    "        )\n",
    "\n",
    "    def forward(self, x):\n",
    "        encoded = self.encoder(x)\n",
    "        decoded = self.decoder(encoded)\n",
    "        return encoded, decoded"
   ]
  },
  {
   "cell_type": "code",
   "execution_count": 3,
   "metadata": {},
   "outputs": [],
   "source": [
    "class MultimodalSentimentModel(nn.Module):\n",
    "    def __init__(self, audio_feature_dim, facial_feature_dim, text_feature_dim, encoding_dim, output_dim, dropout_rate=0):\n",
    "        super(MultimodalSentimentModel, self).__init__()\n",
    "        \n",
    "        total_feature_dim = encoding_dim * 3\n",
    "\n",
    "        self.fc = nn.Linear(encoding_dim, output_dim)\n",
    "\n",
    "        self.face_autoencoder = Autoencoder(input_dim=facial_feature_dim, encoding_dim=encoding_dim)\n",
    "        self.text_autoencoder = Autoencoder(input_dim=text_feature_dim, encoding_dim=encoding_dim)\n",
    "        self.audio_autoencoder = Autoencoder(input_dim=audio_feature_dim, encoding_dim=encoding_dim)\n",
    "        self.concat_autoencoder = Autoencoder(input_dim=total_feature_dim, encoding_dim=encoding_dim)\n",
    "        \n",
    "        self.dropout = nn.Dropout(dropout_rate)\n",
    "\n",
    "\n",
    "    def forward(self, audio_features, facial_features, text_features):\n",
    "        text_encoded, _ = self.text_autoencoder(text_features)\n",
    "        face_encoded, _ = self.face_autoencoder(facial_features)\n",
    "        audio_encoded, _ = self.audio_autoencoder(audio_features)\n",
    "        combined_features = torch.cat((audio_encoded, face_encoded, text_encoded), dim=1)\n",
    "        concat_features, _ = self.concat_autoencoder(combined_features)\n",
    "        x = F.relu(self.fc(concat_features))\n",
    "        x = self.dropout(x)\n",
    "\n",
    "        \n",
    "        return x"
   ]
  },
  {
   "cell_type": "markdown",
   "metadata": {},
   "source": [
    "## Dataset Definition"
   ]
  },
  {
   "cell_type": "code",
   "execution_count": 4,
   "metadata": {},
   "outputs": [],
   "source": [
    "class MultimodalDataset(Dataset):\n",
    "    def __init__(self, h5_file, split='train'):\n",
    "        self.h5_file_path = h5_file\n",
    "        self.split = split\n",
    "        self.groups = []\n",
    "        self.file = None\n",
    "        self.open_file()\n",
    "        \n",
    "        \n",
    "        if self.file is not None:\n",
    "            self.collect_groups()\n",
    "\n",
    "    def open_file(self):\n",
    "        try:\n",
    "            self.file = h5py.File(self.h5_file_path, 'r')\n",
    "        except Exception as e:\n",
    "            print(f\"Failed to open file {self.h5_file_path}: {e}\")\n",
    "\n",
    "    def collect_groups(self):\n",
    "        for group_name in self.file:\n",
    "            if self.file[group_name].attrs['split'] == self.split and self.file[group_name].attrs['label'] in ['Negative', 'Positive']:\n",
    "                self.groups.append(group_name)\n",
    "                \n",
    "    def __len__(self):\n",
    "        return len(self.groups)\n",
    "\n",
    "    def __getitem__(self, idx):\n",
    "        group = self.file[self.groups[idx]]\n",
    "        audio_features = torch.tensor(group['audio_features_averaged'][:], dtype=torch.float32)\n",
    "        facial_features = torch.tensor(group['averaged_facial_features'][:], dtype=torch.float32)\n",
    "        text_features = torch.tensor(group['bert_text_features_512'][:], dtype=torch.float32)\n",
    "        \n",
    "        label_mapping = {'Negative': 0, 'Positive': 1}\n",
    "        label = torch.tensor(label_mapping[group.attrs['label']], dtype=torch.long)\n",
    "        return audio_features, facial_features, text_features, label\n",
    "\n",
    "    def __del__(self):\n",
    "        if self.file is not None:\n",
    "            self.file.close()\n",
    "            print(\"HDF5 file closed.\")\n",
    "    \n",
    "\n",
    "def create_dataloaders(h5_file, batch_size=64):\n",
    "    train_dataset = MultimodalDataset(h5_file, 'train')\n",
    "    validate_dataset = MultimodalDataset(h5_file, 'validate')\n",
    "    test_dataset = MultimodalDataset(h5_file, 'test')\n",
    "\n",
    "    train_loader = DataLoader(train_dataset, batch_size=batch_size, shuffle=True, num_workers=0)\n",
    "    validate_loader = DataLoader(validate_dataset, batch_size=batch_size, shuffle=False, num_workers=0)\n",
    "    test_loader = DataLoader(test_dataset, batch_size=batch_size, shuffle=False, num_workers=0)\n",
    "\n",
    "    return train_loader, validate_loader, test_loader\n",
    "\n",
    "def print_loader_sizes(train_loader, validate_loader, test_loader):\n",
    "    \n",
    "    num_train_batches = len(train_loader)\n",
    "    num_validate_batches = len(validate_loader)\n",
    "    num_test_batches = len(test_loader)\n",
    "\n",
    "\n",
    "    print(f\"Total number of batches in Train Loader: {num_train_batches}\")\n",
    "    print(f\"Total number of batches in Validate Loader: {num_validate_batches}\")\n",
    "    print(f\"Total number of batches in Test Loader: {num_test_batches}\")\n",
    "\n",
    "    first_batch_train = next(iter(train_loader))\n",
    "    print(f\"Shapes of the first train batch - Audio Features: {first_batch_train[0].shape}, Facial Features: {first_batch_train[1].shape}, Text Features: {first_batch_train[2].shape}, Labels: {first_batch_train[3].shape}\")\n",
    "\n",
    "    first_batch_validate = next(iter(validate_loader))\n",
    "    print(f\"Shapes of the first validate batch - Audio Features: {first_batch_validate[0].shape}, Facial Features: {first_batch_validate[1].shape}, Text Features: {first_batch_validate[2].shape}, Labels: {first_batch_validate[3].shape}\")\n",
    "\n",
    "    first_batch_test = next(iter(test_loader))\n",
    "    print(f\"Shapes of the first test batch - Audio Features: {first_batch_test[0].shape}, Facial Features: {first_batch_test[1].shape}, Text Features: {first_batch_test[2].shape}, Labels: {first_batch_test[3].shape}\")\n"
   ]
  },
  {
   "cell_type": "markdown",
   "metadata": {},
   "source": [
    "## Training functions"
   ]
  },
  {
   "cell_type": "code",
   "execution_count": 5,
   "metadata": {},
   "outputs": [],
   "source": [
    "def save_checkpoint(model, optimizer, epoch, filepath):\n",
    "    torch.save({\n",
    "        'epoch': epoch,\n",
    "        'model_state_dict': model.state_dict(),\n",
    "        'optimizer_state_dict': optimizer.state_dict()\n",
    "    }, filepath)\n",
    "\n",
    "def load_checkpoint(filepath, model, optimizer):\n",
    "    checkpoint = torch.load(filepath)\n",
    "    model.load_state_dict(checkpoint['model_state_dict'])\n",
    "    optimizer.load_state_dict(checkpoint['optimizer_state_dict'])\n",
    "    epoch = checkpoint['epoch']\n",
    "    return model, optimizer, epoch\n"
   ]
  },
  {
   "cell_type": "code",
   "execution_count": 6,
   "metadata": {},
   "outputs": [],
   "source": [
    "def train(model, dataloader, loss_fn, optimizer, device):\n",
    "    model.train()\n",
    "    total_loss = 0\n",
    "    correct_predictions = 0\n",
    "\n",
    "    for audio_features, facial_features, text_features, labels in tqdm(dataloader):\n",
    "        audio_features = audio_features.to(device)\n",
    "        facial_features = facial_features.to(device)\n",
    "        text_features = text_features.to(device)\n",
    "        labels = labels.to(device)\n",
    "\n",
    "        optimizer.zero_grad()\n",
    "        outputs = model(audio_features, facial_features, text_features)\n",
    "        loss = loss_fn(outputs, labels)\n",
    "        loss.backward()\n",
    "        optimizer.step()\n",
    "\n",
    "        total_loss += loss.item()\n",
    "        _, predicted = torch.max(outputs, 1)\n",
    "        correct_predictions += (predicted == labels).sum().item()\n",
    "\n",
    "    avg_loss = total_loss / len(dataloader)\n",
    "    accuracy = correct_predictions / len(dataloader.dataset)\n",
    "    return avg_loss, accuracy\n",
    "\n",
    "def validate(model, dataloader, loss_fn, device):\n",
    "    model.eval()\n",
    "    total_loss = 0\n",
    "    correct_predictions = 0\n",
    "\n",
    "    with torch.no_grad():\n",
    "        for audio_features, facial_features, text_features, labels in tqdm(dataloader):\n",
    "            audio_features = audio_features.to(device)\n",
    "            facial_features = facial_features.to(device)\n",
    "            text_features = text_features.to(device)\n",
    "            labels = labels.to(device)\n",
    "\n",
    "            outputs = model(audio_features, facial_features, text_features)\n",
    "            loss = loss_fn(outputs, labels)\n",
    "\n",
    "            total_loss += loss.item()\n",
    "            _, predicted = torch.max(outputs, 1)\n",
    "            correct_predictions += (predicted == labels).sum().item()\n",
    "\n",
    "    avg_loss = total_loss / len(dataloader)\n",
    "    accuracy = correct_predictions / len(dataloader.dataset)\n",
    "    return avg_loss, accuracy\n",
    "\n",
    "def train_and_validate(model, optimizer,train_loader, validate_loader, num_epochs, device, learning_rate):\n",
    "    loss_fn = nn.CrossEntropyLoss()\n",
    "\n",
    "    training_losses = []\n",
    "    validation_losses = []\n",
    "    last_epoch_with_lower_val_loss = 0  # Track the last epoch where validation loss < training loss\n",
    "\n",
    "    for epoch in range(1, num_epochs + 1):\n",
    "        train_loss, train_accuracy = train(model, train_loader, loss_fn, optimizer, device)\n",
    "        val_loss, val_accuracy = validate(model, validate_loader, loss_fn, device)\n",
    "        training_losses.append(train_loss)\n",
    "        validation_losses.append(val_loss)\n",
    "\n",
    "        if val_loss == min(validation_losses):\n",
    "            last_epoch_with_lower_val_loss = epoch  \n",
    "            save_checkpoint(model, optimizer, epoch, f'mmsa_best.pth') \n",
    "\n",
    "        print(f'Epoch {epoch}, Train Loss: {train_loss}, Train Accuracy: {train_accuracy}, Val Loss: {val_loss}, Val Accuracy: {val_accuracy}')\n",
    "        \n",
    "        save_checkpoint(model, optimizer, epoch, f'mmsa_{epoch}.pth')\n",
    "\n",
    "    return training_losses, validation_losses, last_epoch_with_lower_val_loss\n",
    "\n",
    "def plot_losses(training_losses, validation_losses):\n",
    "    epochs = range(1, len(training_losses) + 1) \n",
    "    plt.plot(epochs, training_losses, label='Training Loss')\n",
    "    plt.plot(epochs, validation_losses, label='Validation Loss')\n",
    "    plt.xlabel('Epochs')\n",
    "    plt.ylabel('Loss')\n",
    "    plt.title('Training vs Validation Loss')\n",
    "    plt.xticks(epochs)  \n",
    "    plt.legend()\n",
    "    plt.show()\n",
    "\n",
    "def test(model, test_loader, device, epoch):\n",
    "\n",
    "    test_loss, test_accuracy = validate(model, test_loader, nn.CrossEntropyLoss(), device)\n",
    "    print(f'Epoch {epoch} Test Loss: {test_loss}, Test Accuracy: {test_accuracy}')"
   ]
  },
  {
   "cell_type": "markdown",
   "metadata": {},
   "source": [
    "## Execution"
   ]
  },
  {
   "cell_type": "code",
   "execution_count": 7,
   "metadata": {},
   "outputs": [],
   "source": [
    "# Hyperparams\n",
    "batch_size = 64\n",
    "num_epochs = 20\n",
    "audio_feature_dim = 45 \n",
    "facial_feature_dim = 2048 \n",
    "text_feature_dim = 768 \n",
    "encoding_dim = 512\n",
    "\n",
    "learning_rate = 1e-5\n",
    "dropout_rate = 0.1\n",
    "\n",
    "# Other definitions\n",
    "h5_file = r'combined_features.h5'\n",
    "output_dim = 2  "
   ]
  },
  {
   "cell_type": "code",
   "execution_count": 8,
   "metadata": {},
   "outputs": [
    {
     "name": "stderr",
     "output_type": "stream",
     "text": [
      "100%|██████████| 119/119 [00:09<00:00, 12.61it/s]\n",
      "100%|██████████| 15/15 [00:00<00:00, 15.85it/s]\n"
     ]
    },
    {
     "name": "stdout",
     "output_type": "stream",
     "text": [
      "Epoch 1, Train Loss: 0.6872551255867261, Train Accuracy: 0.6195051329297183, Val Loss: 0.6761942466100057, Val Accuracy: 0.7068783068783069\n"
     ]
    },
    {
     "name": "stderr",
     "output_type": "stream",
     "text": [
      "100%|██████████| 119/119 [00:02<00:00, 39.91it/s]\n",
      "100%|██████████| 15/15 [00:00<00:00, 51.52it/s]\n"
     ]
    },
    {
     "name": "stdout",
     "output_type": "stream",
     "text": [
      "Epoch 2, Train Loss: 0.6409792294021414, Train Accuracy: 0.6864964464332719, Val Loss: 0.5781273007392883, Val Accuracy: 0.764021164021164\n"
     ]
    },
    {
     "name": "stderr",
     "output_type": "stream",
     "text": [
      "100%|██████████| 119/119 [00:02<00:00, 44.00it/s]\n",
      "100%|██████████| 15/15 [00:00<00:00, 59.06it/s]\n"
     ]
    },
    {
     "name": "stdout",
     "output_type": "stream",
     "text": [
      "Epoch 3, Train Loss: 0.5273548807917523, Train Accuracy: 0.7353250855488287, Val Loss: 0.45584259629249574, Val Accuracy: 0.798941798941799\n"
     ]
    },
    {
     "name": "stderr",
     "output_type": "stream",
     "text": [
      "100%|██████████| 119/119 [00:02<00:00, 49.05it/s]\n",
      "100%|██████████| 15/15 [00:00<00:00, 56.41it/s]\n"
     ]
    },
    {
     "name": "stdout",
     "output_type": "stream",
     "text": [
      "Epoch 4, Train Loss: 0.4559427867917454, Train Accuracy: 0.7729665701500394, Val Loss: 0.4043587307135264, Val Accuracy: 0.819047619047619\n"
     ]
    },
    {
     "name": "stderr",
     "output_type": "stream",
     "text": [
      "100%|██████████| 119/119 [00:02<00:00, 45.11it/s]\n",
      "100%|██████████| 15/15 [00:00<00:00, 52.43it/s]\n"
     ]
    },
    {
     "name": "stdout",
     "output_type": "stream",
     "text": [
      "Epoch 5, Train Loss: 0.42875814237514465, Train Accuracy: 0.7808633851013425, Val Loss: 0.40347960392634075, Val Accuracy: 0.8148148148148148\n"
     ]
    },
    {
     "name": "stderr",
     "output_type": "stream",
     "text": [
      "100%|██████████| 119/119 [00:02<00:00, 39.80it/s]\n",
      "100%|██████████| 15/15 [00:00<00:00, 52.73it/s]\n"
     ]
    },
    {
     "name": "stdout",
     "output_type": "stream",
     "text": [
      "Epoch 6, Train Loss: 0.4127677601425588, Train Accuracy: 0.7911292445380363, Val Loss: 0.4011920471986135, Val Accuracy: 0.8243386243386244\n"
     ]
    },
    {
     "name": "stderr",
     "output_type": "stream",
     "text": [
      "100%|██████████| 119/119 [00:02<00:00, 41.51it/s]\n",
      "100%|██████████| 15/15 [00:00<00:00, 56.46it/s]\n"
     ]
    },
    {
     "name": "stdout",
     "output_type": "stream",
     "text": [
      "Epoch 7, Train Loss: 0.4051222165091699, Train Accuracy: 0.7981047644116873, Val Loss: 0.37653438846270243, Val Accuracy: 0.8306878306878307\n"
     ]
    },
    {
     "name": "stderr",
     "output_type": "stream",
     "text": [
      "100%|██████████| 119/119 [00:02<00:00, 43.09it/s]\n",
      "100%|██████████| 15/15 [00:00<00:00, 50.77it/s]\n"
     ]
    },
    {
     "name": "stdout",
     "output_type": "stream",
     "text": [
      "Epoch 8, Train Loss: 0.3913076404763871, Train Accuracy: 0.803369307712556, Val Loss: 0.37486372391382855, Val Accuracy: 0.837037037037037\n"
     ]
    },
    {
     "name": "stderr",
     "output_type": "stream",
     "text": [
      "100%|██████████| 119/119 [00:02<00:00, 42.00it/s]\n",
      "100%|██████████| 15/15 [00:00<00:00, 52.32it/s]\n"
     ]
    },
    {
     "name": "stdout",
     "output_type": "stream",
     "text": [
      "Epoch 9, Train Loss: 0.38603543909657906, Train Accuracy: 0.8037641484601211, Val Loss: 0.3676847736040751, Val Accuracy: 0.8433862433862434\n"
     ]
    },
    {
     "name": "stderr",
     "output_type": "stream",
     "text": [
      "100%|██████████| 119/119 [00:02<00:00, 42.20it/s]\n",
      "100%|██████████| 15/15 [00:00<00:00, 50.47it/s]\n"
     ]
    },
    {
     "name": "stdout",
     "output_type": "stream",
     "text": [
      "Epoch 10, Train Loss: 0.37498324696256335, Train Accuracy: 0.8136351671492498, Val Loss: 0.3652713338534037, Val Accuracy: 0.8455026455026455\n"
     ]
    },
    {
     "name": "stderr",
     "output_type": "stream",
     "text": [
      "100%|██████████| 119/119 [00:02<00:00, 41.49it/s]\n",
      "100%|██████████| 15/15 [00:00<00:00, 53.77it/s]\n"
     ]
    },
    {
     "name": "stdout",
     "output_type": "stream",
     "text": [
      "Epoch 11, Train Loss: 0.37252882736570697, Train Accuracy: 0.8136351671492498, Val Loss: 0.361017902692159, Val Accuracy: 0.8497354497354498\n"
     ]
    },
    {
     "name": "stderr",
     "output_type": "stream",
     "text": [
      "100%|██████████| 119/119 [00:02<00:00, 41.60it/s]\n",
      "100%|██████████| 15/15 [00:00<00:00, 44.04it/s]\n"
     ]
    },
    {
     "name": "stdout",
     "output_type": "stream",
     "text": [
      "Epoch 12, Train Loss: 0.367271199697206, Train Accuracy: 0.8173203474598578, Val Loss: 0.3635028779506683, Val Accuracy: 0.8433862433862434\n"
     ]
    },
    {
     "name": "stderr",
     "output_type": "stream",
     "text": [
      "100%|██████████| 119/119 [00:02<00:00, 40.56it/s]\n",
      "100%|██████████| 15/15 [00:00<00:00, 50.66it/s]\n"
     ]
    },
    {
     "name": "stdout",
     "output_type": "stream",
     "text": [
      "Epoch 13, Train Loss: 0.3636531713379531, Train Accuracy: 0.819557778362727, Val Loss: 0.36549166043599446, Val Accuracy: 0.8412698412698413\n"
     ]
    },
    {
     "name": "stderr",
     "output_type": "stream",
     "text": [
      "100%|██████████| 119/119 [00:03<00:00, 39.52it/s]\n",
      "100%|██████████| 15/15 [00:00<00:00, 51.93it/s]\n"
     ]
    },
    {
     "name": "stdout",
     "output_type": "stream",
     "text": [
      "Epoch 14, Train Loss: 0.35541758341949525, Train Accuracy: 0.8229797315082916, Val Loss: 0.3587247163057327, Val Accuracy: 0.8518518518518519\n"
     ]
    },
    {
     "name": "stderr",
     "output_type": "stream",
     "text": [
      "100%|██████████| 119/119 [00:02<00:00, 43.64it/s]\n",
      "100%|██████████| 15/15 [00:00<00:00, 55.12it/s]\n"
     ]
    },
    {
     "name": "stdout",
     "output_type": "stream",
     "text": [
      "Epoch 15, Train Loss: 0.3439360287259607, Train Accuracy: 0.8337720452750724, Val Loss: 0.36228728493054707, Val Accuracy: 0.8444444444444444\n"
     ]
    },
    {
     "name": "stderr",
     "output_type": "stream",
     "text": [
      "100%|██████████| 119/119 [00:02<00:00, 44.91it/s]\n",
      "100%|██████████| 15/15 [00:00<00:00, 49.58it/s]\n"
     ]
    },
    {
     "name": "stdout",
     "output_type": "stream",
     "text": [
      "Epoch 16, Train Loss: 0.34387503614445697, Train Accuracy: 0.8381152934982891, Val Loss: 0.35767171283562976, Val Accuracy: 0.8465608465608465\n"
     ]
    },
    {
     "name": "stderr",
     "output_type": "stream",
     "text": [
      "100%|██████████| 119/119 [00:02<00:00, 40.82it/s]\n",
      "100%|██████████| 15/15 [00:00<00:00, 52.48it/s]\n"
     ]
    },
    {
     "name": "stdout",
     "output_type": "stream",
     "text": [
      "Epoch 17, Train Loss: 0.3378415226685901, Train Accuracy: 0.8325875230323769, Val Loss: 0.36013351678848265, Val Accuracy: 0.8412698412698413\n"
     ]
    },
    {
     "name": "stderr",
     "output_type": "stream",
     "text": [
      "100%|██████████| 119/119 [00:02<00:00, 40.49it/s]\n",
      "100%|██████████| 15/15 [00:00<00:00, 55.99it/s]\n"
     ]
    },
    {
     "name": "stdout",
     "output_type": "stream",
     "text": [
      "Epoch 18, Train Loss: 0.3297810630888498, Train Accuracy: 0.8382469070808107, Val Loss: 0.3582916488250097, Val Accuracy: 0.8455026455026455\n"
     ]
    },
    {
     "name": "stderr",
     "output_type": "stream",
     "text": [
      "100%|██████████| 119/119 [00:02<00:00, 43.93it/s]\n",
      "100%|██████████| 15/15 [00:00<00:00, 52.83it/s]\n"
     ]
    },
    {
     "name": "stdout",
     "output_type": "stream",
     "text": [
      "Epoch 19, Train Loss: 0.3209101758083376, Train Accuracy: 0.847854698604896, Val Loss: 0.3584881325562795, Val Accuracy: 0.8402116402116402\n"
     ]
    },
    {
     "name": "stderr",
     "output_type": "stream",
     "text": [
      "100%|██████████| 119/119 [00:02<00:00, 45.44it/s]\n",
      "100%|██████████| 15/15 [00:00<00:00, 53.45it/s]\n"
     ]
    },
    {
     "name": "stdout",
     "output_type": "stream",
     "text": [
      "Epoch 20, Train Loss: 0.31647446012797475, Train Accuracy: 0.8521979468281127, Val Loss: 0.3582907925049464, Val Accuracy: 0.8423280423280424\n"
     ]
    },
    {
     "data": {
      "image/png": "[encoded data removed]",
      "text/plain": [
       "<Figure size 640x480 with 1 Axes>"
      ]
     },
     "metadata": {},
     "output_type": "display_data"
    },
    {
     "name": "stdout",
     "output_type": "stream",
     "text": [
      "Testing the model from epoch 16\n"
     ]
    },
    {
     "name": "stderr",
     "output_type": "stream",
     "text": [
      "100%|██████████| 16/16 [00:01<00:00, 14.65it/s]"
     ]
    },
    {
     "name": "stdout",
     "output_type": "stream",
     "text": [
      "Epoch 16 Test Loss: 0.3515529641881585, Test Accuracy: 0.8314255983350677\n"
     ]
    },
    {
     "name": "stderr",
     "output_type": "stream",
     "text": [
      "\n"
     ]
    }
   ],
   "source": [
    "device = torch.device('cuda' if torch.cuda.is_available() else 'cpu')\n",
    "model = MultimodalSentimentModel(\n",
    "    audio_feature_dim=audio_feature_dim,\n",
    "    facial_feature_dim=facial_feature_dim,\n",
    "    text_feature_dim=text_feature_dim,\n",
    "    encoding_dim=encoding_dim,\n",
    "    output_dim=output_dim,\n",
    "    dropout_rate=dropout_rate\n",
    ").to(device)\n",
    "\n",
    "optimizer = Adam(model.parameters(), lr=learning_rate)\n",
    "\n",
    "train_loader, validate_loader, test_loader = create_dataloaders(h5_file, batch_size)\n",
    "# print_loader_sizes(train_loader, validate_loader, test_loader)\n",
    "\n",
    "training_losses, validation_losses, last_epoch_with_lower_val_loss  = train_and_validate(model, optimizer, train_loader, validate_loader, num_epochs, device, learning_rate)\n",
    "plot_losses(training_losses, validation_losses)\n",
    "\n",
    "if last_epoch_with_lower_val_loss > 0:\n",
    "    best_model_path = f'mmsa_best.pth'\n",
    "    model, optimizer, _ = load_checkpoint(best_model_path, model, optimizer)\n",
    "    print(f\"Testing the model from epoch {last_epoch_with_lower_val_loss}\")\n",
    "    test(model, test_loader, device, last_epoch_with_lower_val_loss)\n",
    "else:\n",
    "    print(\"No epoch where the validation loss was lower than the training loss was found.\")"
   ]
  }
 ],
 "metadata": {
  "kernelspec": {
   "display_name": "SUTD",
   "language": "python",
   "name": "python3"
  },
  "language_info": {
   "codemirror_mode": {
    "name": "ipython",
    "version": 3
   },
   "file_extension": ".py",
   "mimetype": "text/x-python",
   "name": "python",
   "nbconvert_exporter": "python",
   "pygments_lexer": "ipython3",
   "version": "3.9.18"
  }
 },
 "nbformat": 4,
 "nbformat_minor": 2
}
