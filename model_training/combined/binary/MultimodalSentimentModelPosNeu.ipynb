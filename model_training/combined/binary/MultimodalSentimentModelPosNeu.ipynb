{
 "cells": [
  {
   "cell_type": "markdown",
   "metadata": {},
   "source": [
    "# Multimodal Sentiment Model"
   ]
  },
  {
   "cell_type": "code",
   "execution_count": 1,
   "metadata": {},
   "outputs": [],
   "source": [
    "import os\n",
    "import torch\n",
    "import torch.nn as nn\n",
    "import torch.nn.functional as F\n",
    "import h5py\n",
    "from torch.utils.data import Dataset, DataLoader\n",
    "from torch.optim import Adam\n",
    "from tqdm import tqdm\n",
    "import matplotlib.pyplot as plt"
   ]
  },
  {
   "cell_type": "markdown",
   "metadata": {},
   "source": [
    "## Model Definition"
   ]
  },
  {
   "cell_type": "code",
   "execution_count": 2,
   "metadata": {},
   "outputs": [],
   "source": [
    "class Autoencoder(nn.Module):\n",
    "    def __init__(self, input_dim, encoding_dim):\n",
    "        super(Autoencoder, self).__init__()\n",
    "        \n",
    "        self.encoder = nn.Sequential(\n",
    "            nn.Linear(input_dim, 512),\n",
    "            nn.ReLU(),\n",
    "            nn.Linear(512, encoding_dim),\n",
    "            nn.ReLU()\n",
    "        )\n",
    "        \n",
    "        self.decoder = nn.Sequential(\n",
    "            nn.Linear(encoding_dim, 512),\n",
    "            nn.ReLU(),\n",
    "            nn.Linear(512, input_dim),\n",
    "            nn.ReLU()\n",
    "        )\n",
    "\n",
    "    def forward(self, x):\n",
    "        encoded = self.encoder(x)\n",
    "        decoded = self.decoder(encoded)\n",
    "        return encoded, decoded"
   ]
  },
  {
   "cell_type": "code",
   "execution_count": 3,
   "metadata": {},
   "outputs": [],
   "source": [
    "class MultimodalSentimentModel(nn.Module):\n",
    "    def __init__(self, audio_feature_dim, facial_feature_dim, text_feature_dim, encoding_dim, output_dim, dropout_rate=0):\n",
    "        super(MultimodalSentimentModel, self).__init__()\n",
    "        \n",
    "        total_feature_dim = encoding_dim * 3\n",
    "\n",
    "        self.fc = nn.Linear(encoding_dim, output_dim)\n",
    "\n",
    "        self.face_autoencoder = Autoencoder(input_dim=facial_feature_dim, encoding_dim=encoding_dim)\n",
    "        self.text_autoencoder = Autoencoder(input_dim=text_feature_dim, encoding_dim=encoding_dim)\n",
    "        self.audio_autoencoder = Autoencoder(input_dim=audio_feature_dim, encoding_dim=encoding_dim)\n",
    "        self.concat_autoencoder = Autoencoder(input_dim=total_feature_dim, encoding_dim=encoding_dim)\n",
    "        \n",
    "        self.dropout = nn.Dropout(dropout_rate)\n",
    "\n",
    "\n",
    "    def forward(self, audio_features, facial_features, text_features):\n",
    "        text_encoded, _ = self.text_autoencoder(text_features)\n",
    "        face_encoded, _ = self.face_autoencoder(facial_features)\n",
    "        audio_encoded, _ = self.audio_autoencoder(audio_features)\n",
    "        combined_features = torch.cat((audio_encoded, face_encoded, text_encoded), dim=1)\n",
    "        concat_features, _ = self.concat_autoencoder(combined_features)\n",
    "        x = F.relu(self.fc(concat_features))\n",
    "        x = self.dropout(x)\n",
    "\n",
    "        \n",
    "        return x"
   ]
  },
  {
   "cell_type": "markdown",
   "metadata": {},
   "source": [
    "## Dataset Definition"
   ]
  },
  {
   "cell_type": "code",
   "execution_count": 4,
   "metadata": {},
   "outputs": [],
   "source": [
    "class MultimodalDataset(Dataset):\n",
    "    def __init__(self, h5_file, split='train'):\n",
    "        self.h5_file_path = h5_file\n",
    "        self.split = split\n",
    "        self.groups = []\n",
    "        self.file = None\n",
    "        self.open_file()\n",
    "        \n",
    "        if self.file is not None:\n",
    "            self.collect_groups()\n",
    "\n",
    "    def open_file(self):\n",
    "        try:\n",
    "            self.file = h5py.File(self.h5_file_path, 'r')\n",
    "        except Exception as e:\n",
    "            print(f\"Failed to open file {self.h5_file_path}: {e}\")\n",
    "\n",
    "    def collect_groups(self):\n",
    "        for group_name in self.file:\n",
    "            if self.file[group_name].attrs['split'] == self.split and self.file[group_name].attrs['label'] in ['Neutral', 'Positive']:\n",
    "                self.groups.append(group_name)\n",
    "                \n",
    "    def __len__(self):\n",
    "        return len(self.groups)\n",
    "\n",
    "    def __getitem__(self, idx):\n",
    "        group = self.file[self.groups[idx]]\n",
    "        audio_features = torch.tensor(group['audio_features_averaged'][:], dtype=torch.float32)\n",
    "        facial_features = torch.tensor(group['averaged_facial_features'][:], dtype=torch.float32)\n",
    "        text_features = torch.tensor(group['bert_text_features_512'][:], dtype=torch.float32)\n",
    "        \n",
    "        label_mapping = {'Neutral': 0, 'Positive': 1}\n",
    "        label = torch.tensor(label_mapping[group.attrs['label']], dtype=torch.long)\n",
    "        return audio_features, facial_features, text_features, label\n",
    "\n",
    "    def __del__(self):\n",
    "        if self.file is not None:\n",
    "            self.file.close()\n",
    "            print(\"HDF5 file closed.\")\n",
    "    \n",
    "\n",
    "def create_dataloaders(h5_file, batch_size=64):\n",
    "    train_dataset = MultimodalDataset(h5_file, 'train')\n",
    "    validate_dataset = MultimodalDataset(h5_file, 'validate')\n",
    "    test_dataset = MultimodalDataset(h5_file, 'test')\n",
    "\n",
    "    train_loader = DataLoader(train_dataset, batch_size=batch_size, shuffle=True, num_workers=0)\n",
    "    validate_loader = DataLoader(validate_dataset, batch_size=batch_size, shuffle=False, num_workers=0)\n",
    "    test_loader = DataLoader(test_dataset, batch_size=batch_size, shuffle=False, num_workers=0)\n",
    "\n",
    "    return train_loader, validate_loader, test_loader\n",
    "\n",
    "def print_loader_sizes(train_loader, validate_loader, test_loader):\n",
    "    num_train_batches = len(train_loader)\n",
    "    num_validate_batches = len(validate_loader)\n",
    "    num_test_batches = len(test_loader)\n",
    "\n",
    "\n",
    "    print(f\"Total number of batches in Train Loader: {num_train_batches}\")\n",
    "    print(f\"Total number of batches in Validate Loader: {num_validate_batches}\")\n",
    "    print(f\"Total number of batches in Test Loader: {num_test_batches}\")\n",
    "\n",
    "    first_batch_train = next(iter(train_loader))\n",
    "    print(f\"Shapes of the first train batch - Audio Features: {first_batch_train[0].shape}, Facial Features: {first_batch_train[1].shape}, Text Features: {first_batch_train[2].shape}, Labels: {first_batch_train[3].shape}\")\n",
    "\n",
    "    first_batch_validate = next(iter(validate_loader))\n",
    "    print(f\"Shapes of the first validate batch - Audio Features: {first_batch_validate[0].shape}, Facial Features: {first_batch_validate[1].shape}, Text Features: {first_batch_validate[2].shape}, Labels: {first_batch_validate[3].shape}\")\n",
    "\n",
    "    first_batch_test = next(iter(test_loader))\n",
    "    print(f\"Shapes of the first test batch - Audio Features: {first_batch_test[0].shape}, Facial Features: {first_batch_test[1].shape}, Text Features: {first_batch_test[2].shape}, Labels: {first_batch_test[3].shape}\")\n"
   ]
  },
  {
   "cell_type": "markdown",
   "metadata": {},
   "source": [
    "## Training functions"
   ]
  },
  {
   "cell_type": "code",
   "execution_count": 5,
   "metadata": {},
   "outputs": [],
   "source": [
    "def save_checkpoint(model, optimizer, epoch, filepath):\n",
    "    torch.save({\n",
    "        'epoch': epoch,\n",
    "        'model_state_dict': model.state_dict(),\n",
    "        'optimizer_state_dict': optimizer.state_dict()\n",
    "    }, filepath)\n",
    "\n",
    "def load_checkpoint(filepath, model, optimizer):\n",
    "    checkpoint = torch.load(filepath)\n",
    "    model.load_state_dict(checkpoint['model_state_dict'])\n",
    "    optimizer.load_state_dict(checkpoint['optimizer_state_dict'])\n",
    "    epoch = checkpoint['epoch']\n",
    "    return model, optimizer, epoch\n"
   ]
  },
  {
   "cell_type": "code",
   "execution_count": 6,
   "metadata": {},
   "outputs": [],
   "source": [
    "def train(model, dataloader, loss_fn, optimizer, device):\n",
    "    model.train()\n",
    "    total_loss = 0\n",
    "    correct_predictions = 0\n",
    "\n",
    "    for audio_features, facial_features, text_features, labels in tqdm(dataloader):\n",
    "        audio_features = audio_features.to(device)\n",
    "        facial_features = facial_features.to(device)\n",
    "        text_features = text_features.to(device)\n",
    "        labels = labels.to(device)\n",
    "\n",
    "        optimizer.zero_grad()\n",
    "        outputs = model(audio_features, facial_features, text_features)\n",
    "        loss = loss_fn(outputs, labels)\n",
    "        loss.backward()\n",
    "        optimizer.step()\n",
    "\n",
    "        total_loss += loss.item()\n",
    "        _, predicted = torch.max(outputs, 1)\n",
    "        correct_predictions += (predicted == labels).sum().item()\n",
    "\n",
    "    avg_loss = total_loss / len(dataloader)\n",
    "    accuracy = correct_predictions / len(dataloader.dataset)\n",
    "    return avg_loss, accuracy\n",
    "\n",
    "def validate(model, dataloader, loss_fn, device):\n",
    "    model.eval()\n",
    "    total_loss = 0\n",
    "    correct_predictions = 0\n",
    "\n",
    "    with torch.no_grad():\n",
    "        for audio_features, facial_features, text_features, labels in tqdm(dataloader):\n",
    "            audio_features = audio_features.to(device)\n",
    "            facial_features = facial_features.to(device)\n",
    "            text_features = text_features.to(device)\n",
    "            labels = labels.to(device)\n",
    "\n",
    "            outputs = model(audio_features, facial_features, text_features)\n",
    "            loss = loss_fn(outputs, labels)\n",
    "\n",
    "            total_loss += loss.item()\n",
    "            _, predicted = torch.max(outputs, 1)\n",
    "            correct_predictions += (predicted == labels).sum().item()\n",
    "\n",
    "    avg_loss = total_loss / len(dataloader)\n",
    "    accuracy = correct_predictions / len(dataloader.dataset)\n",
    "    return avg_loss, accuracy\n",
    "\n",
    "def train_and_validate(model, optimizer,train_loader, validate_loader, num_epochs, device, learning_rate):\n",
    "    loss_fn = nn.CrossEntropyLoss()\n",
    "\n",
    "    training_losses = []\n",
    "    validation_losses = []\n",
    "    last_epoch_with_lower_val_loss = 0  # Track the last epoch where validation loss < training loss\n",
    "\n",
    "    for epoch in range(1, num_epochs + 1):\n",
    "        train_loss, train_accuracy = train(model, train_loader, loss_fn, optimizer, device)\n",
    "        val_loss, val_accuracy = validate(model, validate_loader, loss_fn, device)\n",
    "        training_losses.append(train_loss)\n",
    "        validation_losses.append(val_loss)\n",
    "\n",
    "        if val_loss == min(validation_losses):\n",
    "            last_epoch_with_lower_val_loss = epoch  \n",
    "            save_checkpoint(model, optimizer, epoch, f'mmsa_best.pth')  \n",
    "\n",
    "        print(f'Epoch {epoch}, Train Loss: {train_loss}, Train Accuracy: {train_accuracy}, Val Loss: {val_loss}, Val Accuracy: {val_accuracy}')\n",
    "        \n",
    "        save_checkpoint(model, optimizer, epoch, f'mmsa_{epoch}.pth')\n",
    "\n",
    "    return training_losses, validation_losses, last_epoch_with_lower_val_loss\n",
    "\n",
    "def plot_losses(training_losses, validation_losses):\n",
    "    epochs = range(1, len(training_losses) + 1) \n",
    "    plt.plot(epochs, training_losses, label='Training Loss')\n",
    "    plt.plot(epochs, validation_losses, label='Validation Loss')\n",
    "    plt.xlabel('Epochs')\n",
    "    plt.ylabel('Loss')\n",
    "    plt.title('Training vs Validation Loss')\n",
    "    plt.xticks(epochs)  \n",
    "    plt.legend()\n",
    "    plt.show()\n",
    "\n",
    "def test(model, test_loader, device, epoch):\n",
    "\n",
    "    test_loss, test_accuracy = validate(model, test_loader, nn.CrossEntropyLoss(), device)\n",
    "    print(f'Epoch {epoch} Test Loss: {test_loss}, Test Accuracy: {test_accuracy}')"
   ]
  },
  {
   "cell_type": "markdown",
   "metadata": {},
   "source": [
    "## Execution"
   ]
  },
  {
   "cell_type": "code",
   "execution_count": 7,
   "metadata": {},
   "outputs": [],
   "source": [
    "# Hyperparams\n",
    "batch_size = 64\n",
    "num_epochs = 20\n",
    "audio_feature_dim = 45 \n",
    "facial_feature_dim = 2048 \n",
    "text_feature_dim = 768 \n",
    "encoding_dim = 512\n",
    "\n",
    "learning_rate = 1e-5\n",
    "dropout_rate = 0.1\n",
    "\n",
    "# Other definitions\n",
    "h5_file = r'combined_features.h5'\n",
    "output_dim = 2  "
   ]
  },
  {
   "cell_type": "code",
   "execution_count": 8,
   "metadata": {},
   "outputs": [
    {
     "name": "stderr",
     "output_type": "stream",
     "text": [
      "100%|██████████| 117/117 [00:05<00:00, 22.39it/s]\n",
      "100%|██████████| 15/15 [00:00<00:00, 25.08it/s]\n"
     ]
    },
    {
     "name": "stdout",
     "output_type": "stream",
     "text": [
      "Epoch 1, Train Loss: 0.6920659047925574, Train Accuracy: 0.5108942654725304, Val Loss: 0.6899913311004638, Val Accuracy: 0.5118279569892473\n"
     ]
    },
    {
     "name": "stderr",
     "output_type": "stream",
     "text": [
      "100%|██████████| 117/117 [00:02<00:00, 47.28it/s]\n",
      "100%|██████████| 15/15 [00:00<00:00, 53.77it/s]\n"
     ]
    },
    {
     "name": "stdout",
     "output_type": "stream",
     "text": [
      "Epoch 2, Train Loss: 0.6861715729420002, Train Accuracy: 0.5386980350220558, Val Loss: 0.6799240668614706, Val Accuracy: 0.5344086021505376\n"
     ]
    },
    {
     "name": "stderr",
     "output_type": "stream",
     "text": [
      "100%|██████████| 117/117 [00:02<00:00, 42.74it/s]\n",
      "100%|██████████| 15/15 [00:00<00:00, 52.84it/s]\n"
     ]
    },
    {
     "name": "stdout",
     "output_type": "stream",
     "text": [
      "Epoch 3, Train Loss: 0.6732961464131999, Train Accuracy: 0.5833444726640823, Val Loss: 0.6606127500534058, Val Accuracy: 0.6612903225806451\n"
     ]
    },
    {
     "name": "stderr",
     "output_type": "stream",
     "text": [
      "100%|██████████| 117/117 [00:02<00:00, 40.82it/s]\n",
      "100%|██████████| 15/15 [00:00<00:00, 53.31it/s]\n"
     ]
    },
    {
     "name": "stdout",
     "output_type": "stream",
     "text": [
      "Epoch 4, Train Loss: 0.6445916427506341, Train Accuracy: 0.6378826360112284, Val Loss: 0.6063016613324483, Val Accuracy: 0.7010752688172043\n"
     ]
    },
    {
     "name": "stderr",
     "output_type": "stream",
     "text": [
      "100%|██████████| 117/117 [00:02<00:00, 44.17it/s]\n",
      "100%|██████████| 15/15 [00:00<00:00, 59.72it/s]\n"
     ]
    },
    {
     "name": "stdout",
     "output_type": "stream",
     "text": [
      "Epoch 5, Train Loss: 0.6028288460185385, Train Accuracy: 0.6674241411575993, Val Loss: 0.5753761728604635, Val Accuracy: 0.7118279569892473\n"
     ]
    },
    {
     "name": "stderr",
     "output_type": "stream",
     "text": [
      "100%|██████████| 117/117 [00:02<00:00, 47.18it/s]\n",
      "100%|██████████| 15/15 [00:00<00:00, 58.19it/s]\n"
     ]
    },
    {
     "name": "stdout",
     "output_type": "stream",
     "text": [
      "Epoch 6, Train Loss: 0.5851172527186891, Train Accuracy: 0.677449538831707, Val Loss: 0.5730433543523152, Val Accuracy: 0.7053763440860215\n"
     ]
    },
    {
     "name": "stderr",
     "output_type": "stream",
     "text": [
      "100%|██████████| 117/117 [00:02<00:00, 42.85it/s]\n",
      "100%|██████████| 15/15 [00:00<00:00, 51.47it/s]\n"
     ]
    },
    {
     "name": "stdout",
     "output_type": "stream",
     "text": [
      "Epoch 7, Train Loss: 0.5747240471024798, Train Accuracy: 0.6842668092501003, Val Loss: 0.5661804636319479, Val Accuracy: 0.710752688172043\n"
     ]
    },
    {
     "name": "stderr",
     "output_type": "stream",
     "text": [
      "100%|██████████| 117/117 [00:02<00:00, 40.64it/s]\n",
      "100%|██████████| 15/15 [00:00<00:00, 51.10it/s]\n"
     ]
    },
    {
     "name": "stdout",
     "output_type": "stream",
     "text": [
      "Epoch 8, Train Loss: 0.5652646058135562, Train Accuracy: 0.6966983023659938, Val Loss: 0.5656355341275533, Val Accuracy: 0.7225806451612903\n"
     ]
    },
    {
     "name": "stderr",
     "output_type": "stream",
     "text": [
      "100%|██████████| 117/117 [00:02<00:00, 42.57it/s]\n",
      "100%|██████████| 15/15 [00:00<00:00, 55.20it/s]\n"
     ]
    },
    {
     "name": "stdout",
     "output_type": "stream",
     "text": [
      "Epoch 9, Train Loss: 0.5586949235353714, Train Accuracy: 0.6989707258387916, Val Loss: 0.5612448851267496, Val Accuracy: 0.7053763440860215\n"
     ]
    },
    {
     "name": "stderr",
     "output_type": "stream",
     "text": [
      "100%|██████████| 117/117 [00:02<00:00, 49.06it/s]\n",
      "100%|██████████| 15/15 [00:00<00:00, 58.70it/s]\n"
     ]
    },
    {
     "name": "stdout",
     "output_type": "stream",
     "text": [
      "Epoch 10, Train Loss: 0.5512077179219987, Train Accuracy: 0.7021788530945061, Val Loss: 0.561442244052887, Val Accuracy: 0.7193548387096774\n"
     ]
    },
    {
     "name": "stderr",
     "output_type": "stream",
     "text": [
      "100%|██████████| 117/117 [00:02<00:00, 45.78it/s]\n",
      "100%|██████████| 15/15 [00:00<00:00, 54.93it/s]\n"
     ]
    },
    {
     "name": "stdout",
     "output_type": "stream",
     "text": [
      "Epoch 11, Train Loss: 0.5384343021955246, Train Accuracy: 0.7192888651249832, Val Loss: 0.5582334419091542, Val Accuracy: 0.7172043010752688\n"
     ]
    },
    {
     "name": "stderr",
     "output_type": "stream",
     "text": [
      "100%|██████████| 117/117 [00:02<00:00, 42.50it/s]\n",
      "100%|██████████| 15/15 [00:00<00:00, 51.97it/s]\n"
     ]
    },
    {
     "name": "stdout",
     "output_type": "stream",
     "text": [
      "Epoch 12, Train Loss: 0.5386411545113621, Train Accuracy: 0.7135409704584948, Val Loss: 0.5580843965212504, Val Accuracy: 0.7204301075268817\n"
     ]
    },
    {
     "name": "stderr",
     "output_type": "stream",
     "text": [
      "100%|██████████| 117/117 [00:02<00:00, 40.37it/s]\n",
      "100%|██████████| 15/15 [00:00<00:00, 60.76it/s]\n"
     ]
    },
    {
     "name": "stdout",
     "output_type": "stream",
     "text": [
      "Epoch 13, Train Loss: 0.5238048548881824, Train Accuracy: 0.7290469188611148, Val Loss: 0.5575548529624939, Val Accuracy: 0.7139784946236559\n"
     ]
    },
    {
     "name": "stderr",
     "output_type": "stream",
     "text": [
      "100%|██████████| 117/117 [00:02<00:00, 49.50it/s]\n",
      "100%|██████████| 15/15 [00:00<00:00, 56.04it/s]\n"
     ]
    },
    {
     "name": "stdout",
     "output_type": "stream",
     "text": [
      "Epoch 14, Train Loss: 0.5199629478474967, Train Accuracy: 0.7247694158534955, Val Loss: 0.5592779755592346, Val Accuracy: 0.7139784946236559\n"
     ]
    },
    {
     "name": "stderr",
     "output_type": "stream",
     "text": [
      "100%|██████████| 117/117 [00:02<00:00, 47.99it/s]\n",
      "100%|██████████| 15/15 [00:00<00:00, 58.15it/s]\n"
     ]
    },
    {
     "name": "stdout",
     "output_type": "stream",
     "text": [
      "Epoch 15, Train Loss: 0.5071266545699193, Train Accuracy: 0.7413447400080203, Val Loss: 0.5572456697622935, Val Accuracy: 0.7172043010752688\n"
     ]
    },
    {
     "name": "stderr",
     "output_type": "stream",
     "text": [
      "100%|██████████| 117/117 [00:02<00:00, 42.53it/s]\n",
      "100%|██████████| 15/15 [00:00<00:00, 54.05it/s]\n"
     ]
    },
    {
     "name": "stdout",
     "output_type": "stream",
     "text": [
      "Epoch 16, Train Loss: 0.49995971897728425, Train Accuracy: 0.7468252907365326, Val Loss: 0.5569044848283132, Val Accuracy: 0.7182795698924731\n"
     ]
    },
    {
     "name": "stderr",
     "output_type": "stream",
     "text": [
      "100%|██████████| 117/117 [00:02<00:00, 40.10it/s]\n",
      "100%|██████████| 15/15 [00:00<00:00, 61.32it/s]\n"
     ]
    },
    {
     "name": "stdout",
     "output_type": "stream",
     "text": [
      "Epoch 17, Train Loss: 0.4925022140527383, Train Accuracy: 0.7461569308915921, Val Loss: 0.5651086588700612, Val Accuracy: 0.7247311827956989\n"
     ]
    },
    {
     "name": "stderr",
     "output_type": "stream",
     "text": [
      "100%|██████████| 117/117 [00:02<00:00, 48.89it/s]\n",
      "100%|██████████| 15/15 [00:00<00:00, 60.65it/s]\n"
     ]
    },
    {
     "name": "stdout",
     "output_type": "stream",
     "text": [
      "Epoch 18, Train Loss: 0.48302391477120227, Train Accuracy: 0.7588557679454618, Val Loss: 0.5582116683324178, Val Accuracy: 0.7258064516129032\n"
     ]
    },
    {
     "name": "stderr",
     "output_type": "stream",
     "text": [
      "100%|██████████| 117/117 [00:02<00:00, 47.49it/s]\n",
      "100%|██████████| 15/15 [00:00<00:00, 50.91it/s]\n"
     ]
    },
    {
     "name": "stdout",
     "output_type": "stream",
     "text": [
      "Epoch 19, Train Loss: 0.47459273919081074, Train Accuracy: 0.7612618633872477, Val Loss: 0.5653460264205933, Val Accuracy: 0.7247311827956989\n"
     ]
    },
    {
     "name": "stderr",
     "output_type": "stream",
     "text": [
      "100%|██████████| 117/117 [00:02<00:00, 41.76it/s]\n",
      "100%|██████████| 15/15 [00:00<00:00, 55.40it/s]\n"
     ]
    },
    {
     "name": "stdout",
     "output_type": "stream",
     "text": [
      "Epoch 20, Train Loss: 0.46552823140070987, Train Accuracy: 0.7644699906429622, Val Loss: 0.582142037153244, Val Accuracy: 0.7010752688172043\n"
     ]
    },
    {
     "data": {
      "image/png": "[encoded data removed]",
      "text/plain": [
       "<Figure size 640x480 with 1 Axes>"
      ]
     },
     "metadata": {},
     "output_type": "display_data"
    },
    {
     "name": "stdout",
     "output_type": "stream",
     "text": [
      "Testing the model from epoch 16\n"
     ]
    },
    {
     "name": "stderr",
     "output_type": "stream",
     "text": [
      "100%|██████████| 15/15 [00:00<00:00, 23.08it/s]"
     ]
    },
    {
     "name": "stdout",
     "output_type": "stream",
     "text": [
      "Epoch 16 Test Loss: 0.5858377118905386, Test Accuracy: 0.7012847965738758\n"
     ]
    },
    {
     "name": "stderr",
     "output_type": "stream",
     "text": [
      "\n"
     ]
    }
   ],
   "source": [
    "device = torch.device('cuda' if torch.cuda.is_available() else 'cpu')\n",
    "model = MultimodalSentimentModel(\n",
    "    audio_feature_dim=audio_feature_dim,\n",
    "    facial_feature_dim=facial_feature_dim,\n",
    "    text_feature_dim=text_feature_dim,\n",
    "    encoding_dim=encoding_dim,\n",
    "    output_dim=output_dim,\n",
    "    dropout_rate=dropout_rate\n",
    ").to(device)\n",
    "\n",
    "optimizer = Adam(model.parameters(), lr=learning_rate)\n",
    "\n",
    "train_loader, validate_loader, test_loader = create_dataloaders(h5_file, batch_size)\n",
    "# print_loader_sizes(train_loader, validate_loader, test_loader)\n",
    "\n",
    "training_losses, validation_losses, last_epoch_with_lower_val_loss  = train_and_validate(model, optimizer, train_loader, validate_loader, num_epochs, device, learning_rate)\n",
    "plot_losses(training_losses, validation_losses)\n",
    "\n",
    "if last_epoch_with_lower_val_loss > 0:\n",
    "    best_model_path = f'mmsa_best.pth'\n",
    "    model, optimizer, _ = load_checkpoint(best_model_path, model, optimizer)\n",
    "    print(f\"Testing the model from epoch {last_epoch_with_lower_val_loss}\")\n",
    "    test(model, test_loader, device, last_epoch_with_lower_val_loss)\n",
    "else:\n",
    "    print(\"No epoch where the validation loss was lower than the training loss was found.\")"
   ]
  }
 ],
 "metadata": {
  "kernelspec": {
   "display_name": "SUTD",
   "language": "python",
   "name": "python3"
  },
  "language_info": {
   "codemirror_mode": {
    "name": "ipython",
    "version": 3
   },
   "file_extension": ".py",
   "mimetype": "text/x-python",
   "name": "python",
   "nbconvert_exporter": "python",
   "pygments_lexer": "ipython3",
   "version": "3.9.18"
  }
 },
 "nbformat": 4,
 "nbformat_minor": 2
}
