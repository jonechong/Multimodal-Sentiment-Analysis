{
 "cells": [
  {
   "cell_type": "code",
   "execution_count": 1,
   "metadata": {},
   "outputs": [],
   "source": [
    "import pandas as pd\n",
    "\n",
    "info_df = pd.read_csv(r'../train_test_validate_split.csv')\n",
    "\n",
    "info_lookup = {\n",
    "    (str(row['video_id']), str(row['clip_id'])): {\n",
    "        'label': row['annotation'],\n",
    "        'text': row['text'],\n",
    "        'split': row['split']\n",
    "    }\n",
    "    for index, row in info_df.iterrows()\n",
    "}"
   ]
  },
  {
   "cell_type": "code",
   "execution_count": null,
   "metadata": {},
   "outputs": [],
   "source": [
    "import h5py\n",
    "\n",
    "h5_path = 'output_h5/mels.h5'\n",
    "\n",
    "with h5py.File(h5_path, 'r+') as h5f:  \n",
    "    for group_name in h5f.keys():\n",
    "        video_id, clip_id = group_name.rsplit('_', 1)\n",
    "        \n",
    "        group_info = info_lookup.get((video_id, clip_id))\n",
    "        \n",
    "        if group_info:\n",
    "            h5f[group_name].attrs['label'] = group_info['label']\n",
    "            h5f[group_name].attrs['text'] = group_info['text']\n",
    "            h5f[group_name].attrs['split'] = group_info['split']"
   ]
  },
  {
   "cell_type": "code",
   "execution_count": null,
   "metadata": {},
   "outputs": [],
   "source": []
  }
 ],
 "metadata": {
  "kernelspec": {
   "display_name": "SUTD",
   "language": "python",
   "name": "python3"
  },
  "language_info": {
   "codemirror_mode": {
    "name": "ipython",
    "version": 3
   },
   "file_extension": ".py",
   "mimetype": "text/x-python",
   "name": "python",
   "nbconvert_exporter": "python",
   "pygments_lexer": "ipython3",
   "version": "3.9.18"
  }
 },
 "nbformat": 4,
 "nbformat_minor": 2
}
