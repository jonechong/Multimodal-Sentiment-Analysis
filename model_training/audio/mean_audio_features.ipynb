{
 "cells": [
  {
   "cell_type": "markdown",
   "metadata": {},
   "source": [
    "d"
   ]
  },
  {
   "cell_type": "code",
   "execution_count": 1,
   "metadata": {},
   "outputs": [],
   "source": [
    "import h5py\n",
    "import numpy as np"
   ]
  },
  {
   "cell_type": "code",
   "execution_count": 4,
   "metadata": {},
   "outputs": [
    {
     "name": "stdout",
     "output_type": "stream",
     "text": [
      "Averaged features have been successfully saved to 'normalised_averaged_audio_features.h5'.\n"
     ]
    }
   ],
   "source": [
    "h5_path = r'output_h5/normalised_audio_features.h5'\n",
    "with h5py.File(h5_path, 'r') as original_h5:\n",
    "    with h5py.File(r'output_h5/normalised_averaged_audio_features.h5', 'w') as averaged_h5:\n",
    "        for group_name in original_h5:\n",
    "            group = original_h5[group_name]\n",
    "            \n",
    "            dataset = group['audio_features_23ms_normalized']\n",
    "            \n",
    "            averaged_data = np.mean(dataset, axis=0)\n",
    "            \n",
    "            new_group = averaged_h5.create_group(group_name)\n",
    "            \n",
    "            for attr_name, attr_value in group.attrs.items():\n",
    "                new_group.attrs[attr_name] = attr_value\n",
    "            \n",
    "            new_group.create_dataset('audio_features_averaged', data=averaged_data)\n",
    "\n",
    "print(\"Averaged features have been successfully saved to 'normalised_averaged_audio_features.h5'.\")\n"
   ]
  },
  {
   "cell_type": "code",
   "execution_count": null,
   "metadata": {},
   "outputs": [],
   "source": []
  }
 ],
 "metadata": {
  "kernelspec": {
   "display_name": "SUTD",
   "language": "python",
   "name": "python3"
  },
  "language_info": {
   "codemirror_mode": {
    "name": "ipython",
    "version": 3
   },
   "file_extension": ".py",
   "mimetype": "text/x-python",
   "name": "python",
   "nbconvert_exporter": "python",
   "pygments_lexer": "ipython3",
   "version": "3.9.18"
  }
 },
 "nbformat": 4,
 "nbformat_minor": 2
}
