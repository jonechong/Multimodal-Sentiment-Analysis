{
 "cells": [
  {
   "cell_type": "code",
   "execution_count": 1,
   "metadata": {},
   "outputs": [],
   "source": [
    "import torch\n",
    "import torch.nn as nn\n",
    "import torch.optim as optim\n",
    "from torch.utils.data import DataLoader, Subset, random_split, Dataset\n",
    "from torch.nn.utils.rnn import pad_sequence\n",
    "import h5py\n",
    "import numpy as np\n",
    "import matplotlib.pyplot as plt\n",
    "import copy"
   ]
  },
  {
   "cell_type": "markdown",
   "metadata": {},
   "source": [
    "## Dataset Definition"
   ]
  },
  {
   "cell_type": "code",
   "execution_count": 29,
   "metadata": {},
   "outputs": [],
   "source": [
    "class AudioFeaturesDataset(Dataset):\n",
    "    def __init__(self, h5_file, split_type='train'):\n",
    "        self.h5_file = h5_file\n",
    "        self.data = []\n",
    "        self.labels = []\n",
    "        self.label_mapping = {'Negative': 0, 'Neutral': 1, 'Positive': 2}\n",
    "        \n",
    "        with h5py.File(h5_file, 'r') as file:\n",
    "            for key in file.keys():\n",
    "                if file[key].attrs['split'] == split_type:\n",
    "                    features = file[key]['mfcc_features_normalized'][:]\n",
    "                    label = file[key].attrs['label']\n",
    "                    self.data.append(torch.tensor(features, dtype=torch.float))\n",
    "                    self.labels.append(self.label_mapping[label])\n",
    "    \n",
    "    def __len__(self):\n",
    "        return len(self.data)\n",
    "    \n",
    "    def __getitem__(self, idx):\n",
    "        return self.data[idx], torch.tensor(self.labels[idx], dtype=torch.long)\n",
    "\n",
    "# We need this because our video clips length are different\n",
    "def collate_fn(batch):\n",
    "    features, labels = zip(*batch)\n",
    "    # Pad the sequences to have the same length\n",
    "    features_padded = pad_sequence(features, batch_first=True)\n",
    "    labels = torch.tensor(labels, dtype=torch.long)\n",
    "    return features_padded, labels"
   ]
  },
  {
   "cell_type": "markdown",
   "metadata": {},
   "source": [
    "## Model Definition"
   ]
  },
  {
   "cell_type": "code",
   "execution_count": 33,
   "metadata": {},
   "outputs": [],
   "source": [
    "class LSTMClassifier(nn.Module):\n",
    "    def __init__(self, input_dim, hidden_dim, output_dim, num_layers):\n",
    "        super(LSTMClassifier, self).__init__()\n",
    "        self.hidden_dim = hidden_dim\n",
    "        self.num_layers = num_layers\n",
    "        \n",
    "        self.lstm = nn.LSTM(input_dim, hidden_dim, num_layers, batch_first=True)\n",
    "        self.gru =  nn.GRU(input_dim, hidden_dim, num_layers, batch_first=True)\n",
    "        \n",
    "        self.linear = nn.Linear(hidden_dim, output_dim)\n",
    "\n",
    "        \n",
    "    def forward(self, x):\n",
    "        h0 = torch.zeros(self.num_layers, x.size(0), self.hidden_dim).to(x.device)\n",
    "        \n",
    "        c0 = torch.zeros(self.num_layers, x.size(0), self.hidden_dim).to(x.device)\n",
    "        \n",
    "        out, _ = self.lstm(x, (h0, c0))\n",
    "        # out, _ = self.gru(x, h0)\n",
    "        \n",
    "        # Decode the hidden state of the last time step\n",
    "        out = self.linear(out[:, -1, :])\n",
    "        return out"
   ]
  },
  {
   "cell_type": "code",
   "execution_count": 4,
   "metadata": {},
   "outputs": [],
   "source": [
    "def validate(model, data_loader, criterion, device):\n",
    "    model.eval()  \n",
    "    total_loss = 0\n",
    "    total_correct = 0\n",
    "    with torch.no_grad():  \n",
    "        for features, labels in data_loader:\n",
    "            features, labels = features.to(device), labels.to(device)\n",
    "            outputs = model(features)\n",
    "            loss = criterion(outputs, labels)\n",
    "            total_loss += loss.item()\n",
    "            _, predicted = torch.max(outputs.data, 1)\n",
    "            total_correct += (predicted == labels).sum().item()\n",
    "    avg_loss = total_loss / len(data_loader)\n",
    "    accuracy = total_correct / len(data_loader.dataset)\n",
    "    return avg_loss, accuracy\n"
   ]
  },
  {
   "cell_type": "markdown",
   "metadata": {},
   "source": [
    "## Execution"
   ]
  },
  {
   "cell_type": "code",
   "execution_count": 39,
   "metadata": {},
   "outputs": [],
   "source": [
    "batch_size = 32\n",
    "dataset = AudioFeaturesDataset(r'output_h5/normalized_mfccs.h5')\n",
    "\n",
    "dataset_train = AudioFeaturesDataset('output_h5/normalized_mfccs.h5', 'train')\n",
    "dataset_val = AudioFeaturesDataset('output_h5/normalized_mfccs.h5', 'validate')\n",
    "dataset_test = AudioFeaturesDataset('output_h5/normalized_mfccs.h5', 'test')\n",
    "\n",
    "train_loader = DataLoader(dataset_train, batch_size=batch_size, shuffle=True, collate_fn=collate_fn)\n",
    "val_loader = DataLoader(dataset_val, batch_size=batch_size, shuffle=False, collate_fn=collate_fn)\n",
    "test_loader = DataLoader(dataset_test, batch_size=batch_size, shuffle=False, collate_fn=collate_fn)\n"
   ]
  },
  {
   "cell_type": "code",
   "execution_count": 43,
   "metadata": {},
   "outputs": [
    {
     "data": {
      "text/plain": [
       "LSTMClassifier(\n",
       "  (lstm): LSTM(20, 1024, num_layers=2, batch_first=True)\n",
       "  (gru): GRU(20, 1024, num_layers=2, batch_first=True)\n",
       "  (linear): Linear(in_features=1024, out_features=3, bias=True)\n",
       ")"
      ]
     },
     "execution_count": 43,
     "metadata": {},
     "output_type": "execute_result"
    }
   ],
   "source": [
    "############################################\n",
    "# Params\n",
    "num_epochs = 50\n",
    "learning_rate = 0.001\n",
    "hidden_size = 1024\n",
    "num_layers = 2\n",
    "\n",
    "\n",
    "patience = 5\n",
    "\n",
    "\n",
    "# Speed Params\n",
    "num_workers = 0\n",
    "\n",
    "############################################\n",
    "\n",
    "# Model instantiation\n",
    "model = LSTMClassifier(input_dim=20, hidden_dim=hidden_size, output_dim=3, num_layers=num_layers)\n",
    "\n",
    "# Loss and optimizer\n",
    "criterion = nn.CrossEntropyLoss()\n",
    "optimizer = optim.Adam(model.parameters(), lr=learning_rate)\n",
    "scheduler = optim.lr_scheduler.ReduceLROnPlateau(optimizer, 'min', patience=patience, factor=0.1, verbose=True)\n",
    "\n",
    "\n",
    "device = torch.device(\"cuda\" if torch.cuda.is_available() else \"cpu\")\n",
    "model.to(device)"
   ]
  },
  {
   "cell_type": "code",
   "execution_count": 44,
   "metadata": {},
   "outputs": [
    {
     "name": "stdout",
     "output_type": "stream",
     "text": [
      "Epoch [1/50], Training Loss: 1.0997, Validation Loss: 1.0990, Validation Accuracy: 0.3322\n",
      "Epoch [2/50], Training Loss: 1.1194, Validation Loss: 1.1013, Validation Accuracy: 0.3409\n",
      "Epoch [3/50], Training Loss: 1.1017, Validation Loss: 1.1001, Validation Accuracy: 0.3309\n",
      "Epoch [4/50], Training Loss: 1.1003, Validation Loss: 1.0989, Validation Accuracy: 0.3482\n",
      "Epoch [5/50], Training Loss: 1.0997, Validation Loss: 1.0993, Validation Accuracy: 0.3229\n",
      "Epoch [6/50], Training Loss: 1.0995, Validation Loss: 1.1005, Validation Accuracy: 0.3162\n"
     ]
    },
    {
     "ename": "KeyboardInterrupt",
     "evalue": "",
     "output_type": "error",
     "traceback": [
      "\u001b[1;31m---------------------------------------------------------------------------\u001b[0m",
      "\u001b[1;31mKeyboardInterrupt\u001b[0m                         Traceback (most recent call last)",
      "Cell \u001b[1;32mIn[44], line 9\u001b[0m\n\u001b[0;32m      7\u001b[0m total_train_loss \u001b[38;5;241m=\u001b[39m \u001b[38;5;241m0\u001b[39m\n\u001b[0;32m      8\u001b[0m \u001b[38;5;28;01mfor\u001b[39;00m features, labels \u001b[38;5;129;01min\u001b[39;00m train_loader:\n\u001b[1;32m----> 9\u001b[0m     features, labels \u001b[38;5;241m=\u001b[39m \u001b[43mfeatures\u001b[49m\u001b[38;5;241;43m.\u001b[39;49m\u001b[43mto\u001b[49m\u001b[43m(\u001b[49m\u001b[43mdevice\u001b[49m\u001b[43m)\u001b[49m, labels\u001b[38;5;241m.\u001b[39mto(device)\n\u001b[0;32m     11\u001b[0m     \u001b[38;5;66;03m# Forward pass\u001b[39;00m\n\u001b[0;32m     12\u001b[0m     outputs \u001b[38;5;241m=\u001b[39m model(features)\n",
      "\u001b[1;31mKeyboardInterrupt\u001b[0m: "
     ]
    }
   ],
   "source": [
    "train_losses = []\n",
    "val_losses = []\n",
    "best_val_loss = float('inf')\n",
    "best_model_weights = copy.deepcopy(model.state_dict())  \n",
    "for epoch in range(num_epochs):\n",
    "    model.train()\n",
    "    total_train_loss = 0\n",
    "    for features, labels in train_loader:\n",
    "        features, labels = features.to(device), labels.to(device)\n",
    "        \n",
    "        outputs = model(features)\n",
    "        loss = criterion(outputs, labels)\n",
    "        total_train_loss += loss.item()\n",
    "        \n",
    "        optimizer.zero_grad()\n",
    "        loss.backward()\n",
    "        optimizer.step()\n",
    "    \n",
    "    avg_train_loss = total_train_loss / len(train_loader)\n",
    "    val_loss, val_accuracy = validate(model, val_loader, criterion, device)\n",
    "    \n",
    "    train_losses.append(avg_train_loss)\n",
    "    val_losses.append(val_loss)\n",
    "    \n",
    "    scheduler.step(val_loss)\n",
    "    \n",
    "    if val_loss < best_val_loss:\n",
    "        # print(f\"Validation loss decreased ({best_val_loss:.6f} --> {val_loss:.6f}). Saving model ...\")\n",
    "        best_val_loss = val_loss\n",
    "        best_model_weights = copy.deepcopy(model.state_dict())\n",
    "        # Save model (optional)\n",
    "        torch.save(model.state_dict(), 'best_model_LSTM.pth')\n",
    "    \n",
    "    print(f'Epoch [{epoch+1}/{num_epochs}], Training Loss: {avg_train_loss:.4f}, Validation Loss: {val_loss:.4f}, Validation Accuracy: {val_accuracy:.4f}')\n"
   ]
  },
  {
   "cell_type": "markdown",
   "metadata": {},
   "source": [
    "## Plotting training vs validation losses"
   ]
  },
  {
   "cell_type": "code",
   "execution_count": 45,
   "metadata": {},
   "outputs": [
    {
     "data": {
      "image/png": "[encoded data removed]",
      "text/plain": [
       "<Figure size 1000x600 with 1 Axes>"
      ]
     },
     "metadata": {},
     "output_type": "display_data"
    }
   ],
   "source": [
    "plt.figure(figsize=(10, 6))\n",
    "plt.plot(train_losses, label='Training Loss')\n",
    "plt.plot(val_losses, label='Validation Loss')\n",
    "plt.title('Training and Validation Losses')\n",
    "plt.xlabel('Epochs')\n",
    "plt.ylabel('Loss')\n",
    "plt.legend()\n",
    "plt.show()\n"
   ]
  },
  {
   "cell_type": "markdown",
   "metadata": {},
   "source": [
    "## Testing model"
   ]
  },
  {
   "cell_type": "code",
   "execution_count": null,
   "metadata": {},
   "outputs": [
    {
     "name": "stdout",
     "output_type": "stream",
     "text": [
      "Lowest validation loss: 0.9709818751915641, Test Loss: 1.0162, Test Accuracy: 0.5428\n"
     ]
    }
   ],
   "source": [
    "model.load_state_dict(best_model_weights)\n",
    "# model.load_state_dict(torch.load('best_model.pth'))\n",
    "test_loss, test_accuracy = validate(model, test_loader, criterion, device)\n",
    "print(f'Lowest validation loss: {best_val_loss}, Test Loss: {test_loss:.4f}, Test Accuracy: {test_accuracy:.4f}')\n"
   ]
  },
  {
   "cell_type": "code",
   "execution_count": null,
   "metadata": {},
   "outputs": [],
   "source": []
  }
 ],
 "metadata": {
  "kernelspec": {
   "display_name": "SUTD",
   "language": "python",
   "name": "python3"
  },
  "language_info": {
   "codemirror_mode": {
    "name": "ipython",
    "version": 3
   },
   "file_extension": ".py",
   "mimetype": "text/x-python",
   "name": "python",
   "nbconvert_exporter": "python",
   "pygments_lexer": "ipython3",
   "version": "3.9.18"
  }
 },
 "nbformat": 4,
 "nbformat_minor": 2
}
