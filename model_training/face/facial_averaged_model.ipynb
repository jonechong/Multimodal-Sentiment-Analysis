{
 "cells": [
  {
   "cell_type": "code",
   "execution_count": 25,
   "metadata": {},
   "outputs": [],
   "source": [
    "import torch\n",
    "import torch.nn as nn\n",
    "import torch.nn.functional as F\n",
    "import torch\n",
    "from torch.utils.data import Dataset, DataLoader\n",
    "import h5py\n",
    "import numpy as np\n",
    "import torch.optim as optim\n",
    "import matplotlib.pyplot as plt\n",
    "import copy\n",
    "from torch.utils.data.dataset import random_split"
   ]
  },
  {
   "cell_type": "markdown",
   "metadata": {},
   "source": [
    "## Dataset Definition"
   ]
  },
  {
   "cell_type": "code",
   "execution_count": 26,
   "metadata": {},
   "outputs": [],
   "source": [
    "class FacialFeaturesDataset(Dataset):\n",
    "    def __init__(self, hdf5_path):\n",
    "        self.hdf5_path = hdf5_path\n",
    "        self.hdf5_file = None\n",
    "        self.keys = []\n",
    "\n",
    "        with h5py.File(self.hdf5_path, 'r') as file:\n",
    "            self.keys = list(file.keys())\n",
    "\n",
    "    def __len__(self):\n",
    "        return len(self.keys)\n",
    "\n",
    "    def __getitem__(self, idx):\n",
    "        if self.hdf5_file is None:\n",
    "            self.hdf5_file = h5py.File(self.hdf5_path, 'r')\n",
    "\n",
    "        group_key = self.keys[idx]\n",
    "        group = self.hdf5_file[group_key]\n",
    "\n",
    "        features = np.array(group['feature'])\n",
    "        label = group.attrs['label']\n",
    "\n",
    "        return torch.tensor(features, dtype=torch.float), torch.tensor(label, dtype=torch.long)\n",
    "\n",
    "    def close(self):\n",
    "        if self.hdf5_file is not None:\n",
    "            self.hdf5_file.close()\n"
   ]
  },
  {
   "cell_type": "markdown",
   "metadata": {},
   "source": [
    "## Model Definition"
   ]
  },
  {
   "cell_type": "code",
   "execution_count": 27,
   "metadata": {},
   "outputs": [],
   "source": [
    "class SimpleClassifier(nn.Module):\n",
    "    def __init__(self, input_size, hidden_size, num_classes):\n",
    "        super(SimpleClassifier, self).__init__()\n",
    "        self.fc1 = nn.Linear(input_size, hidden_size)\n",
    "        self.fc2 = nn.Linear(hidden_size, num_classes)\n",
    "\n",
    "    def forward(self, x):\n",
    "        out = F.relu(self.fc1(x))\n",
    "        out = self.fc2(out)\n",
    "        return out"
   ]
  },
  {
   "cell_type": "code",
   "execution_count": 28,
   "metadata": {},
   "outputs": [],
   "source": [
    "def validate(model, data_loader, criterion, device):\n",
    "    model.eval()  \n",
    "    total_loss = 0\n",
    "    total_correct = 0\n",
    "    with torch.no_grad(): \n",
    "        for features, labels in data_loader:\n",
    "            features, labels = features.to(device), labels.to(device)\n",
    "            outputs = model(features)\n",
    "            loss = criterion(outputs, labels)\n",
    "            total_loss += loss.item()\n",
    "            _, predicted = torch.max(outputs.data, 1)\n",
    "            total_correct += (predicted == labels).sum().item()\n",
    "    avg_loss = total_loss / len(data_loader)\n",
    "    accuracy = total_correct / len(data_loader.dataset)\n",
    "    return avg_loss, accuracy\n"
   ]
  },
  {
   "cell_type": "markdown",
   "metadata": {},
   "source": [
    "## Execution"
   ]
  },
  {
   "cell_type": "code",
   "execution_count": 29,
   "metadata": {},
   "outputs": [],
   "source": [
    "############################################\n",
    "# Params\n",
    "num_epochs = 50\n",
    "learning_rate = 0.0001\n",
    "hidden_size = 4096\n",
    "\n",
    "train_ratio = 0.8\n",
    "val_ratio = 0.1\n",
    "# Test ratio is the rest\n",
    "patience = 10\n",
    "batch_size = 64\n",
    "\n",
    "\n",
    "# Speed Params\n",
    "num_workers = 0\n",
    "\n",
    "############################################\n",
    "\n",
    "# Model instantiation\n",
    "model = SimpleClassifier(input_size=2048, hidden_size=hidden_size, num_classes=3)\n",
    "\n",
    "# Loss and optimizer\n",
    "criterion = nn.CrossEntropyLoss()\n",
    "optimizer = optim.Adam(model.parameters(), lr=learning_rate)\n",
    "scheduler = optim.lr_scheduler.ReduceLROnPlateau(optimizer, 'min', patience=patience, factor=0.1, verbose=True)\n",
    "\n",
    "\n",
    "device = torch.device(\"cuda\" if torch.cuda.is_available() else \"cpu\")\n",
    "model.to(device)\n",
    "\n",
    "dataset = FacialFeaturesDataset('facial_features-CMU_MOSEI_120_averaged.h5')\n",
    "\n",
    "total_size = len(dataset)\n",
    "train_size = int(train_ratio * total_size)\n",
    "val_size = int(val_ratio * total_size)\n",
    "test_size = total_size - train_size - val_size\n",
    "\n",
    "train_dataset, val_dataset, test_dataset = random_split(dataset, [train_size, val_size, test_size])\n",
    "\n",
    "train_loader = DataLoader(train_dataset, batch_size=batch_size, shuffle=True, num_workers=num_workers)\n",
    "val_loader = DataLoader(val_dataset, batch_size=batch_size, shuffle=False, num_workers=num_workers)\n",
    "test_loader = DataLoader(test_dataset, batch_size=batch_size, shuffle=False, num_workers=num_workers)"
   ]
  },
  {
   "cell_type": "code",
   "execution_count": 30,
   "metadata": {},
   "outputs": [
    {
     "name": "stdout",
     "output_type": "stream",
     "text": [
      "Epoch [1/50], Training Loss: 0.9798, Validation Loss: 0.9656, Validation Accuracy: 0.5568\n",
      "Epoch [2/50], Training Loss: 0.9288, Validation Loss: 0.9417, Validation Accuracy: 0.5895\n",
      "Epoch [3/50], Training Loss: 0.8961, Validation Loss: 0.9473, Validation Accuracy: 0.5798\n",
      "Epoch [4/50], Training Loss: 0.8631, Validation Loss: 0.9652, Validation Accuracy: 0.5738\n",
      "Epoch [5/50], Training Loss: 0.8312, Validation Loss: 0.9624, Validation Accuracy: 0.5846\n",
      "Epoch [6/50], Training Loss: 0.7947, Validation Loss: 0.9377, Validation Accuracy: 0.5992\n",
      "Epoch [7/50], Training Loss: 0.7648, Validation Loss: 0.9369, Validation Accuracy: 0.5961\n",
      "Epoch [8/50], Training Loss: 0.7271, Validation Loss: 0.9562, Validation Accuracy: 0.6034\n",
      "Epoch [9/50], Training Loss: 0.7051, Validation Loss: 0.9403, Validation Accuracy: 0.6028\n",
      "Epoch [10/50], Training Loss: 0.6630, Validation Loss: 0.9568, Validation Accuracy: 0.6058\n",
      "Epoch [11/50], Training Loss: 0.6332, Validation Loss: 0.9750, Validation Accuracy: 0.5937\n",
      "Epoch [12/50], Training Loss: 0.6063, Validation Loss: 1.0034, Validation Accuracy: 0.5526\n",
      "Epoch [13/50], Training Loss: 0.5769, Validation Loss: 1.0159, Validation Accuracy: 0.5689\n",
      "Epoch [14/50], Training Loss: 0.5348, Validation Loss: 1.0049, Validation Accuracy: 0.5973\n",
      "Epoch [15/50], Training Loss: 0.5041, Validation Loss: 1.0620, Validation Accuracy: 0.5683\n",
      "Epoch [16/50], Training Loss: 0.4805, Validation Loss: 1.0875, Validation Accuracy: 0.5877\n",
      "Epoch [17/50], Training Loss: 0.4535, Validation Loss: 1.1177, Validation Accuracy: 0.5852\n",
      "Epoch [18/50], Training Loss: 0.4337, Validation Loss: 1.1305, Validation Accuracy: 0.5985\n",
      "Epoch [19/50], Training Loss: 0.3492, Validation Loss: 1.0815, Validation Accuracy: 0.5961\n",
      "Epoch [20/50], Training Loss: 0.3317, Validation Loss: 1.0930, Validation Accuracy: 0.5985\n",
      "Epoch [21/50], Training Loss: 0.3260, Validation Loss: 1.0903, Validation Accuracy: 0.5955\n",
      "Epoch [22/50], Training Loss: 0.3209, Validation Loss: 1.0898, Validation Accuracy: 0.5967\n",
      "Epoch [23/50], Training Loss: 0.3168, Validation Loss: 1.0962, Validation Accuracy: 0.5895\n",
      "Epoch [24/50], Training Loss: 0.3137, Validation Loss: 1.1008, Validation Accuracy: 0.5871\n",
      "Epoch [25/50], Training Loss: 0.3093, Validation Loss: 1.1047, Validation Accuracy: 0.5931\n",
      "Epoch [26/50], Training Loss: 0.3052, Validation Loss: 1.1088, Validation Accuracy: 0.5998\n",
      "Epoch [27/50], Training Loss: 0.3019, Validation Loss: 1.1098, Validation Accuracy: 0.5871\n",
      "Epoch [28/50], Training Loss: 0.2980, Validation Loss: 1.1155, Validation Accuracy: 0.5865\n",
      "Epoch [29/50], Training Loss: 0.2943, Validation Loss: 1.1117, Validation Accuracy: 0.5852\n",
      "Epoch [30/50], Training Loss: 0.2848, Validation Loss: 1.1161, Validation Accuracy: 0.5901\n",
      "Epoch [31/50], Training Loss: 0.2837, Validation Loss: 1.1157, Validation Accuracy: 0.5931\n",
      "Epoch [32/50], Training Loss: 0.2831, Validation Loss: 1.1143, Validation Accuracy: 0.5949\n",
      "Epoch [33/50], Training Loss: 0.2825, Validation Loss: 1.1165, Validation Accuracy: 0.5883\n",
      "Epoch [34/50], Training Loss: 0.2823, Validation Loss: 1.1173, Validation Accuracy: 0.5919\n",
      "Epoch [35/50], Training Loss: 0.2818, Validation Loss: 1.1168, Validation Accuracy: 0.5919\n",
      "Epoch [36/50], Training Loss: 0.2813, Validation Loss: 1.1186, Validation Accuracy: 0.5907\n",
      "Epoch [37/50], Training Loss: 0.2809, Validation Loss: 1.1174, Validation Accuracy: 0.5925\n",
      "Epoch [38/50], Training Loss: 0.2804, Validation Loss: 1.1167, Validation Accuracy: 0.5895\n",
      "Epoch [39/50], Training Loss: 0.2801, Validation Loss: 1.1183, Validation Accuracy: 0.5895\n",
      "Epoch [40/50], Training Loss: 0.2797, Validation Loss: 1.1207, Validation Accuracy: 0.5919\n",
      "Epoch [41/50], Training Loss: 0.2786, Validation Loss: 1.1200, Validation Accuracy: 0.5919\n",
      "Epoch [42/50], Training Loss: 0.2785, Validation Loss: 1.1195, Validation Accuracy: 0.5919\n",
      "Epoch [43/50], Training Loss: 0.2783, Validation Loss: 1.1193, Validation Accuracy: 0.5919\n",
      "Epoch [44/50], Training Loss: 0.2783, Validation Loss: 1.1191, Validation Accuracy: 0.5925\n",
      "Epoch [45/50], Training Loss: 0.2783, Validation Loss: 1.1195, Validation Accuracy: 0.5913\n",
      "Epoch [46/50], Training Loss: 0.2782, Validation Loss: 1.1193, Validation Accuracy: 0.5925\n",
      "Epoch [47/50], Training Loss: 0.2782, Validation Loss: 1.1194, Validation Accuracy: 0.5931\n",
      "Epoch [48/50], Training Loss: 0.2782, Validation Loss: 1.1197, Validation Accuracy: 0.5925\n",
      "Epoch [49/50], Training Loss: 0.2781, Validation Loss: 1.1198, Validation Accuracy: 0.5919\n",
      "Epoch [50/50], Training Loss: 0.2781, Validation Loss: 1.1198, Validation Accuracy: 0.5913\n"
     ]
    }
   ],
   "source": [
    "train_losses = []\n",
    "val_losses = []\n",
    "best_val_loss = float('inf')\n",
    "best_model_weights = copy.deepcopy(model.state_dict()) \n",
    "\n",
    "for epoch in range(num_epochs):\n",
    "    model.train()\n",
    "    total_train_loss = 0\n",
    "    for features, labels in train_loader:\n",
    "        features, labels = features.to(device), labels.to(device)\n",
    "        \n",
    "        outputs = model(features)\n",
    "        loss = criterion(outputs, labels)\n",
    "        total_train_loss += loss.item()\n",
    "        \n",
    "        optimizer.zero_grad()\n",
    "        loss.backward()\n",
    "        optimizer.step()\n",
    "    \n",
    "    avg_train_loss = total_train_loss / len(train_loader)\n",
    "    val_loss, val_accuracy = validate(model, val_loader, criterion, device)\n",
    "    \n",
    "    train_losses.append(avg_train_loss)\n",
    "    val_losses.append(val_loss)\n",
    "    \n",
    "    scheduler.step(val_loss)\n",
    "    \n",
    "    if val_loss < best_val_loss:\n",
    "        # print(f\"Validation loss decreased ({best_val_loss:.6f} --> {val_loss:.6f}). Saving model ...\")\n",
    "        best_val_loss = val_loss\n",
    "        best_model_weights = copy.deepcopy(model.state_dict())\n",
    "        # Save model (optional)\n",
    "        torch.save(model.state_dict(), 'best_model_averaged_120.pth')\n",
    "    \n",
    "    print(f'Epoch [{epoch+1}/{num_epochs}], Training Loss: {avg_train_loss:.4f}, Validation Loss: {val_loss:.4f}, Validation Accuracy: {val_accuracy:.4f}')\n"
   ]
  },
  {
   "cell_type": "markdown",
   "metadata": {},
   "source": [
    "## Plotting training vs validation losses"
   ]
  },
  {
   "cell_type": "code",
   "execution_count": 31,
   "metadata": {},
   "outputs": [
    {
     "data": {
      "image/png": "[encoded data removed]",
      "text/plain": [
       "<Figure size 1000x600 with 1 Axes>"
      ]
     },
     "metadata": {},
     "output_type": "display_data"
    }
   ],
   "source": [
    "plt.figure(figsize=(10, 6))\n",
    "plt.plot(train_losses, label='Training Loss')\n",
    "plt.plot(val_losses, label='Validation Loss')\n",
    "plt.title('Training and Validation Losses')\n",
    "plt.xlabel('Epochs')\n",
    "plt.ylabel('Loss')\n",
    "plt.legend()\n",
    "plt.show()\n"
   ]
  },
  {
   "cell_type": "markdown",
   "metadata": {},
   "source": [
    "## Testing model"
   ]
  },
  {
   "cell_type": "code",
   "execution_count": 32,
   "metadata": {},
   "outputs": [
    {
     "name": "stdout",
     "output_type": "stream",
     "text": [
      "Lowest validation loss: 0.9368625099842365, Test Loss: 0.9910, Test Accuracy: 0.5686\n"
     ]
    }
   ],
   "source": [
    "model.load_state_dict(best_model_weights)\n",
    "# model.load_state_dict(torch.load('best_model.pth'))\n",
    "test_loss, test_accuracy = validate(model, test_loader, criterion, device)\n",
    "print(f'Lowest validation loss: {best_val_loss}, Test Loss: {test_loss:.4f}, Test Accuracy: {test_accuracy:.4f}')\n"
   ]
  },
  {
   "cell_type": "code",
   "execution_count": null,
   "metadata": {},
   "outputs": [],
   "source": []
  }
 ],
 "metadata": {
  "kernelspec": {
   "display_name": "SUTD",
   "language": "python",
   "name": "python3"
  },
  "language_info": {
   "codemirror_mode": {
    "name": "ipython",
    "version": 3
   },
   "file_extension": ".py",
   "mimetype": "text/x-python",
   "name": "python",
   "nbconvert_exporter": "python",
   "pygments_lexer": "ipython3",
   "version": "3.9.18"
  }
 },
 "nbformat": 4,
 "nbformat_minor": 2
}
