{
 "cells": [
  {
   "cell_type": "code",
   "execution_count": 1,
   "metadata": {},
   "outputs": [],
   "source": [
    "import torch\n",
    "import torch.nn as nn\n",
    "import torch.optim as optim\n",
    "from torch.utils.data import DataLoader, Subset, random_split, Dataset\n",
    "from torch.nn.utils.rnn import pad_sequence\n",
    "import h5py\n",
    "import numpy as np\n",
    "import matplotlib.pyplot as plt\n",
    "import copy"
   ]
  },
  {
   "cell_type": "markdown",
   "metadata": {},
   "source": [
    "## Dataset Definition"
   ]
  },
  {
   "cell_type": "code",
   "execution_count": 2,
   "metadata": {},
   "outputs": [],
   "source": [
    "class FacialFeaturesDataset(Dataset):\n",
    "    def __init__(self, h5_file):\n",
    "        self.h5_file = h5_file\n",
    "        with h5py.File(h5_file, 'r') as file:\n",
    "            self.keys = list(file.keys())\n",
    "            self.labels = [file[key].attrs['label'] for key in self.keys]\n",
    "            \n",
    "    def __len__(self):\n",
    "        return len(self.keys)\n",
    "    \n",
    "    def __getitem__(self, idx):\n",
    "        with h5py.File(self.h5_file, 'r') as file:\n",
    "            group_key = self.keys[idx]\n",
    "            features = file[group_key]['features'][:]\n",
    "            label = file[group_key].attrs['label']\n",
    "        return torch.tensor(features, dtype=torch.float), torch.tensor(label, dtype=torch.long)\n",
    "\n",
    "# We need this because our video clips length are different\n",
    "def collate_fn(batch):\n",
    "    features, labels = zip(*batch)\n",
    "    # Pad the sequences to have the same length\n",
    "    features_padded = pad_sequence(features, batch_first=True)\n",
    "    labels = torch.tensor(labels, dtype=torch.long)\n",
    "    return features_padded, labels"
   ]
  },
  {
   "cell_type": "markdown",
   "metadata": {},
   "source": [
    "## Model Definition"
   ]
  },
  {
   "cell_type": "code",
   "execution_count": 3,
   "metadata": {},
   "outputs": [],
   "source": [
    "class LSTMClassifier(nn.Module):\n",
    "    def __init__(self, input_dim, hidden_dim, output_dim, num_layers):\n",
    "        super(LSTMClassifier, self).__init__()\n",
    "        self.hidden_dim = hidden_dim\n",
    "        self.num_layers = num_layers\n",
    "        \n",
    "        self.lstm = nn.LSTM(input_dim, hidden_dim, num_layers, batch_first=True)\n",
    "        self.gru =  nn.GRU(input_dim, hidden_dim, num_layers, batch_first=True)\n",
    "        \n",
    "        self.linear = nn.Linear(hidden_dim, output_dim)\n",
    "\n",
    "        \n",
    "    def forward(self, x):\n",
    "        h0 = torch.zeros(self.num_layers, x.size(0), self.hidden_dim).to(x.device)\n",
    "        c0 = torch.zeros(self.num_layers, x.size(0), self.hidden_dim).to(x.device)\n",
    "        \n",
    "        # out, _ = self.lstm(x, (h0, c0))\n",
    "        out, _ = self.gru(x, h0)\n",
    "        \n",
    "        # Decode the hidden state of the last time step\n",
    "        out = self.linear(out[:, -1, :])\n",
    "        return out"
   ]
  },
  {
   "cell_type": "code",
   "execution_count": 4,
   "metadata": {},
   "outputs": [],
   "source": [
    "def validate(model, data_loader, criterion, device):\n",
    "    model.eval() \n",
    "    total_loss = 0\n",
    "    total_correct = 0\n",
    "    with torch.no_grad():  \n",
    "        for features, labels in data_loader:\n",
    "            features, labels = features.to(device), labels.to(device)\n",
    "            outputs = model(features)\n",
    "            loss = criterion(outputs, labels)\n",
    "            total_loss += loss.item()\n",
    "            _, predicted = torch.max(outputs.data, 1)\n",
    "            total_correct += (predicted == labels).sum().item()\n",
    "    avg_loss = total_loss / len(data_loader)\n",
    "    accuracy = total_correct / len(data_loader.dataset)\n",
    "    return avg_loss, accuracy\n"
   ]
  },
  {
   "cell_type": "markdown",
   "metadata": {},
   "source": [
    "## Execution"
   ]
  },
  {
   "cell_type": "code",
   "execution_count": 5,
   "metadata": {},
   "outputs": [
    {
     "name": "stderr",
     "output_type": "stream",
     "text": [
      "c:\\Users\\jonec\\miniconda3\\envs\\SUTD\\lib\\site-packages\\torch\\optim\\lr_scheduler.py:28: UserWarning: The verbose parameter is deprecated. Please use get_last_lr() to access the learning rate.\n",
      "  warnings.warn(\"The verbose parameter is deprecated. Please use get_last_lr() \"\n"
     ]
    }
   ],
   "source": [
    "############################################\n",
    "# Params\n",
    "num_epochs = 50\n",
    "learning_rate = 0.0001\n",
    "hidden_size = 2048\n",
    "num_layers = 3\n",
    "\n",
    "train_ratio = 0.8\n",
    "val_ratio = 0.1\n",
    "# Test ratio is the rest\n",
    "patience = 10\n",
    "batch_size = 64\n",
    "\n",
    "\n",
    "# Speed Params\n",
    "num_workers = 0\n",
    "\n",
    "############################################\n",
    "\n",
    "# Model instantiation\n",
    "model = LSTMClassifier(input_dim=2048, hidden_dim=hidden_size, output_dim=3, num_layers=num_layers)\n",
    "\n",
    "# Loss and optimizer\n",
    "criterion = nn.CrossEntropyLoss()\n",
    "optimizer = optim.Adam(model.parameters(), lr=learning_rate)\n",
    "scheduler = optim.lr_scheduler.ReduceLROnPlateau(optimizer, 'min', patience=patience, factor=0.1, verbose=True)\n",
    "\n",
    "\n",
    "device = torch.device(\"cuda\" if torch.cuda.is_available() else \"cpu\")\n",
    "model.to(device)\n",
    "\n",
    "dataset = FacialFeaturesDataset('facial_features-CMU_MOSEI_30.h5')\n",
    "\n",
    "total_size = len(dataset)\n",
    "train_size = int(train_ratio * total_size)\n",
    "val_size = int(val_ratio * total_size)\n",
    "test_size = total_size - train_size - val_size\n",
    "\n",
    "train_dataset, val_dataset, test_dataset = random_split(dataset, [train_size, val_size, test_size])\n",
    "\n",
    "train_loader = DataLoader(train_dataset, batch_size=batch_size, shuffle=True, collate_fn=collate_fn, num_workers=num_workers)\n",
    "val_loader = DataLoader(val_dataset, batch_size=batch_size, shuffle=False, collate_fn=collate_fn, num_workers=num_workers)\n",
    "test_loader = DataLoader(test_dataset, batch_size=batch_size, shuffle=False, collate_fn=collate_fn, num_workers=num_workers)"
   ]
  },
  {
   "cell_type": "code",
   "execution_count": 6,
   "metadata": {},
   "outputs": [
    {
     "name": "stdout",
     "output_type": "stream",
     "text": [
      "Epoch [1/50], Training Loss: 1.0906, Validation Loss: 1.0794, Validation Accuracy: 0.4291\n",
      "Epoch [2/50], Training Loss: 1.0448, Validation Loss: 1.0432, Validation Accuracy: 0.4695\n",
      "Epoch [3/50], Training Loss: 1.0155, Validation Loss: 1.0257, Validation Accuracy: 0.4914\n",
      "Epoch [4/50], Training Loss: 0.9914, Validation Loss: 1.0207, Validation Accuracy: 0.4928\n",
      "Epoch [5/50], Training Loss: 0.9671, Validation Loss: 1.0216, Validation Accuracy: 0.5003\n",
      "Epoch [6/50], Training Loss: 0.9450, Validation Loss: 1.0271, Validation Accuracy: 0.5065\n",
      "Epoch [7/50], Training Loss: 0.9153, Validation Loss: 0.9859, Validation Accuracy: 0.5250\n",
      "Epoch [8/50], Training Loss: 0.8982, Validation Loss: 1.0091, Validation Accuracy: 0.5243\n",
      "Epoch [9/50], Training Loss: 0.8583, Validation Loss: 1.0055, Validation Accuracy: 0.5284\n",
      "Epoch [10/50], Training Loss: 0.8252, Validation Loss: 0.9710, Validation Accuracy: 0.5730\n",
      "Epoch [11/50], Training Loss: 0.7903, Validation Loss: 1.0357, Validation Accuracy: 0.5284\n",
      "Epoch [12/50], Training Loss: 0.7643, Validation Loss: 1.0132, Validation Accuracy: 0.5346\n",
      "Epoch [13/50], Training Loss: 0.7217, Validation Loss: 1.0227, Validation Accuracy: 0.5463\n",
      "Epoch [14/50], Training Loss: 0.6825, Validation Loss: 1.0692, Validation Accuracy: 0.5538\n",
      "Epoch [15/50], Training Loss: 0.6481, Validation Loss: 1.0793, Validation Accuracy: 0.5422\n",
      "Epoch [16/50], Training Loss: 0.5976, Validation Loss: 1.1329, Validation Accuracy: 0.5723\n",
      "Epoch [17/50], Training Loss: 0.5717, Validation Loss: 1.1375, Validation Accuracy: 0.5634\n",
      "Epoch [18/50], Training Loss: 0.5183, Validation Loss: 1.2996, Validation Accuracy: 0.5168\n",
      "Epoch [19/50], Training Loss: 0.5028, Validation Loss: 1.2028, Validation Accuracy: 0.5394\n",
      "Epoch [20/50], Training Loss: 0.4343, Validation Loss: 1.2840, Validation Accuracy: 0.5613\n",
      "Epoch [21/50], Training Loss: 0.4277, Validation Loss: 1.3213, Validation Accuracy: 0.5435\n",
      "Epoch [22/50], Training Loss: 0.2946, Validation Loss: 1.5176, Validation Accuracy: 0.5620\n",
      "Epoch [23/50], Training Loss: 0.2445, Validation Loss: 1.7094, Validation Accuracy: 0.5490\n",
      "Epoch [24/50], Training Loss: 0.2249, Validation Loss: 1.8348, Validation Accuracy: 0.5641\n",
      "Epoch [25/50], Training Loss: 0.2026, Validation Loss: 1.9649, Validation Accuracy: 0.5627\n",
      "Epoch [26/50], Training Loss: 0.1875, Validation Loss: 2.0899, Validation Accuracy: 0.5449\n",
      "Epoch [27/50], Training Loss: 0.1721, Validation Loss: 2.2241, Validation Accuracy: 0.5579\n",
      "Epoch [28/50], Training Loss: 0.1557, Validation Loss: 2.3346, Validation Accuracy: 0.5545\n",
      "Epoch [29/50], Training Loss: 0.1475, Validation Loss: 2.4908, Validation Accuracy: 0.5394\n",
      "Epoch [30/50], Training Loss: 0.1297, Validation Loss: 2.5374, Validation Accuracy: 0.5524\n",
      "Epoch [31/50], Training Loss: 0.1180, Validation Loss: 2.6625, Validation Accuracy: 0.5380\n",
      "Epoch [32/50], Training Loss: 0.1066, Validation Loss: 2.8208, Validation Accuracy: 0.5463\n",
      "Epoch [33/50], Training Loss: 0.0851, Validation Loss: 2.8505, Validation Accuracy: 0.5435\n",
      "Epoch [34/50], Training Loss: 0.0791, Validation Loss: 2.9001, Validation Accuracy: 0.5428\n",
      "Epoch [35/50], Training Loss: 0.0769, Validation Loss: 2.9187, Validation Accuracy: 0.5463\n",
      "Epoch [36/50], Training Loss: 0.0766, Validation Loss: 2.9942, Validation Accuracy: 0.5469\n",
      "Epoch [37/50], Training Loss: 0.0743, Validation Loss: 2.9853, Validation Accuracy: 0.5428\n",
      "Epoch [38/50], Training Loss: 0.0714, Validation Loss: 3.0286, Validation Accuracy: 0.5463\n",
      "Epoch [39/50], Training Loss: 0.0698, Validation Loss: 3.0675, Validation Accuracy: 0.5476\n",
      "Epoch [40/50], Training Loss: 0.0676, Validation Loss: 3.0943, Validation Accuracy: 0.5428\n",
      "Epoch [41/50], Training Loss: 0.0679, Validation Loss: 3.1431, Validation Accuracy: 0.5456\n",
      "Epoch [42/50], Training Loss: 0.0660, Validation Loss: 3.1688, Validation Accuracy: 0.5428\n",
      "Epoch [43/50], Training Loss: 0.0647, Validation Loss: 3.1952, Validation Accuracy: 0.5442\n",
      "Epoch [44/50], Training Loss: 0.0626, Validation Loss: 3.1954, Validation Accuracy: 0.5435\n",
      "Epoch [45/50], Training Loss: 0.0619, Validation Loss: 3.1972, Validation Accuracy: 0.5435\n",
      "Epoch [46/50], Training Loss: 0.0627, Validation Loss: 3.1985, Validation Accuracy: 0.5428\n",
      "Epoch [47/50], Training Loss: 0.0640, Validation Loss: 3.2026, Validation Accuracy: 0.5442\n",
      "Epoch [48/50], Training Loss: 0.0605, Validation Loss: 3.2063, Validation Accuracy: 0.5442\n",
      "Epoch [49/50], Training Loss: 0.0609, Validation Loss: 3.2086, Validation Accuracy: 0.5442\n",
      "Epoch [50/50], Training Loss: 0.0596, Validation Loss: 3.2132, Validation Accuracy: 0.5442\n"
     ]
    }
   ],
   "source": [
    "train_losses = []\n",
    "val_losses = []\n",
    "best_val_loss = float('inf')\n",
    "best_model_weights = copy.deepcopy(model.state_dict()) \n",
    "\n",
    "for epoch in range(num_epochs):\n",
    "    model.train()\n",
    "    total_train_loss = 0\n",
    "    for features, labels in train_loader:\n",
    "        features, labels = features.to(device), labels.to(device)\n",
    "        \n",
    "        outputs = model(features)\n",
    "        loss = criterion(outputs, labels)\n",
    "        total_train_loss += loss.item()\n",
    "        \n",
    "        optimizer.zero_grad()\n",
    "        loss.backward()\n",
    "        optimizer.step()\n",
    "    \n",
    "    avg_train_loss = total_train_loss / len(train_loader)\n",
    "    val_loss, val_accuracy = validate(model, val_loader, criterion, device)\n",
    "    \n",
    "    train_losses.append(avg_train_loss)\n",
    "    val_losses.append(val_loss)\n",
    "    \n",
    "    scheduler.step(val_loss)\n",
    "    \n",
    "    if val_loss < best_val_loss:\n",
    "        # print(f\"Validation loss decreased ({best_val_loss:.6f} --> {val_loss:.6f}). Saving model ...\")\n",
    "        best_val_loss = val_loss\n",
    "        best_model_weights = copy.deepcopy(model.state_dict())\n",
    "        # Save model (optional)\n",
    "        torch.save(model.state_dict(), 'best_model_GRU_30.pth')\n",
    "    \n",
    "    print(f'Epoch [{epoch+1}/{num_epochs}], Training Loss: {avg_train_loss:.4f}, Validation Loss: {val_loss:.4f}, Validation Accuracy: {val_accuracy:.4f}')\n"
   ]
  },
  {
   "cell_type": "markdown",
   "metadata": {},
   "source": [
    "## Plotting training vs validation losses"
   ]
  },
  {
   "cell_type": "code",
   "execution_count": 9,
   "metadata": {},
   "outputs": [
    {
     "data": {
      "image/png": "[encoded data removed]",
      "text/plain": [
       "<Figure size 1000x600 with 1 Axes>"
      ]
     },
     "metadata": {},
     "output_type": "display_data"
    }
   ],
   "source": [
    "plt.figure(figsize=(10, 6))\n",
    "plt.plot(train_losses, label='Training Loss')\n",
    "plt.plot(val_losses, label='Validation Loss')\n",
    "plt.title('Training and Validation Losses')\n",
    "plt.xlabel('Epochs')\n",
    "plt.ylabel('Loss')\n",
    "plt.legend()\n",
    "plt.show()\n"
   ]
  },
  {
   "cell_type": "markdown",
   "metadata": {},
   "source": [
    "## Testing model"
   ]
  },
  {
   "cell_type": "code",
   "execution_count": 10,
   "metadata": {},
   "outputs": [
    {
     "name": "stdout",
     "output_type": "stream",
     "text": [
      "Lowest validation loss: 0.9709818751915641, Test Loss: 1.0162, Test Accuracy: 0.5428\n"
     ]
    }
   ],
   "source": [
    "model.load_state_dict(best_model_weights)\n",
    "# model.load_state_dict(torch.load('best_model.pth'))\n",
    "test_loss, test_accuracy = validate(model, test_loader, criterion, device)\n",
    "print(f'Lowest validation loss: {best_val_loss}, Test Loss: {test_loss:.4f}, Test Accuracy: {test_accuracy:.4f}')\n"
   ]
  },
  {
   "cell_type": "code",
   "execution_count": null,
   "metadata": {},
   "outputs": [],
   "source": []
  }
 ],
 "metadata": {
  "kernelspec": {
   "display_name": "SUTD",
   "language": "python",
   "name": "python3"
  },
  "language_info": {
   "codemirror_mode": {
    "name": "ipython",
    "version": 3
   },
   "file_extension": ".py",
   "mimetype": "text/x-python",
   "name": "python",
   "nbconvert_exporter": "python",
   "pygments_lexer": "ipython3",
   "version": "3.9.18"
  }
 },
 "nbformat": 4,
 "nbformat_minor": 2
}
